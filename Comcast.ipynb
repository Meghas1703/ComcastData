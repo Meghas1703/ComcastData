{
 "cells": [
  {
   "cell_type": "code",
   "execution_count": 1,
   "metadata": {},
   "outputs": [],
   "source": [
    "import pandas as pd\n",
    "import numpy as np\n",
    "import matplotlib.pyplot as plt\n",
    "%matplotlib inline\n",
    "import warnings\n",
    "warnings.filterwarnings(action=\"ignore\")"
   ]
  },
  {
   "cell_type": "code",
   "execution_count": 2,
   "metadata": {},
   "outputs": [],
   "source": [
    "comcast = pd.read_csv(r\"C:\\Users\\e0519050\\Downloads\\Simplilrarn\\Python\\Project_Submission\\Comcast_telecom_complaints_data\\Comcast_telecom_complaints_data.csv\")"
   ]
  },
  {
   "cell_type": "code",
   "execution_count": 3,
   "metadata": {},
   "outputs": [
    {
     "data": {
      "text/html": [
       "<div>\n",
       "<style scoped>\n",
       "    .dataframe tbody tr th:only-of-type {\n",
       "        vertical-align: middle;\n",
       "    }\n",
       "\n",
       "    .dataframe tbody tr th {\n",
       "        vertical-align: top;\n",
       "    }\n",
       "\n",
       "    .dataframe thead th {\n",
       "        text-align: right;\n",
       "    }\n",
       "</style>\n",
       "<table border=\"1\" class=\"dataframe\">\n",
       "  <thead>\n",
       "    <tr style=\"text-align: right;\">\n",
       "      <th></th>\n",
       "      <th>Ticket #</th>\n",
       "      <th>Customer Complaint</th>\n",
       "      <th>Date</th>\n",
       "      <th>Date_month_year</th>\n",
       "      <th>Time</th>\n",
       "      <th>Received Via</th>\n",
       "      <th>City</th>\n",
       "      <th>State</th>\n",
       "      <th>Zip code</th>\n",
       "      <th>Status</th>\n",
       "      <th>Filing on Behalf of Someone</th>\n",
       "    </tr>\n",
       "  </thead>\n",
       "  <tbody>\n",
       "    <tr>\n",
       "      <td>0</td>\n",
       "      <td>250635</td>\n",
       "      <td>Comcast Cable Internet Speeds</td>\n",
       "      <td>22-04-15</td>\n",
       "      <td>22-Apr-15</td>\n",
       "      <td>3:53:50 PM</td>\n",
       "      <td>Customer Care Call</td>\n",
       "      <td>Abingdon</td>\n",
       "      <td>Maryland</td>\n",
       "      <td>21009</td>\n",
       "      <td>Closed</td>\n",
       "      <td>No</td>\n",
       "    </tr>\n",
       "    <tr>\n",
       "      <td>1</td>\n",
       "      <td>223441</td>\n",
       "      <td>Payment disappear - service got disconnected</td>\n",
       "      <td>04-08-15</td>\n",
       "      <td>04-Aug-15</td>\n",
       "      <td>10:22:56 AM</td>\n",
       "      <td>Internet</td>\n",
       "      <td>Acworth</td>\n",
       "      <td>Georgia</td>\n",
       "      <td>30102</td>\n",
       "      <td>Closed</td>\n",
       "      <td>No</td>\n",
       "    </tr>\n",
       "    <tr>\n",
       "      <td>2</td>\n",
       "      <td>242732</td>\n",
       "      <td>Speed and Service</td>\n",
       "      <td>18-04-15</td>\n",
       "      <td>18-Apr-15</td>\n",
       "      <td>9:55:47 AM</td>\n",
       "      <td>Internet</td>\n",
       "      <td>Acworth</td>\n",
       "      <td>Georgia</td>\n",
       "      <td>30101</td>\n",
       "      <td>Closed</td>\n",
       "      <td>Yes</td>\n",
       "    </tr>\n",
       "    <tr>\n",
       "      <td>3</td>\n",
       "      <td>277946</td>\n",
       "      <td>Comcast Imposed a New Usage Cap of 300GB that ...</td>\n",
       "      <td>05-07-15</td>\n",
       "      <td>05-Jul-15</td>\n",
       "      <td>11:59:35 AM</td>\n",
       "      <td>Internet</td>\n",
       "      <td>Acworth</td>\n",
       "      <td>Georgia</td>\n",
       "      <td>30101</td>\n",
       "      <td>Open</td>\n",
       "      <td>Yes</td>\n",
       "    </tr>\n",
       "    <tr>\n",
       "      <td>4</td>\n",
       "      <td>307175</td>\n",
       "      <td>Comcast not working and no service to boot</td>\n",
       "      <td>26-05-15</td>\n",
       "      <td>26-May-15</td>\n",
       "      <td>1:25:26 PM</td>\n",
       "      <td>Internet</td>\n",
       "      <td>Acworth</td>\n",
       "      <td>Georgia</td>\n",
       "      <td>30101</td>\n",
       "      <td>Solved</td>\n",
       "      <td>No</td>\n",
       "    </tr>\n",
       "  </tbody>\n",
       "</table>\n",
       "</div>"
      ],
      "text/plain": [
       "  Ticket #                                 Customer Complaint      Date  \\\n",
       "0   250635                      Comcast Cable Internet Speeds  22-04-15   \n",
       "1   223441       Payment disappear - service got disconnected  04-08-15   \n",
       "2   242732                                  Speed and Service  18-04-15   \n",
       "3   277946  Comcast Imposed a New Usage Cap of 300GB that ...  05-07-15   \n",
       "4   307175         Comcast not working and no service to boot  26-05-15   \n",
       "\n",
       "  Date_month_year         Time        Received Via      City     State  \\\n",
       "0       22-Apr-15   3:53:50 PM  Customer Care Call  Abingdon  Maryland   \n",
       "1       04-Aug-15  10:22:56 AM            Internet   Acworth   Georgia   \n",
       "2       18-Apr-15   9:55:47 AM            Internet   Acworth   Georgia   \n",
       "3       05-Jul-15  11:59:35 AM            Internet   Acworth   Georgia   \n",
       "4       26-May-15   1:25:26 PM            Internet   Acworth   Georgia   \n",
       "\n",
       "   Zip code  Status Filing on Behalf of Someone  \n",
       "0     21009  Closed                          No  \n",
       "1     30102  Closed                          No  \n",
       "2     30101  Closed                         Yes  \n",
       "3     30101    Open                         Yes  \n",
       "4     30101  Solved                          No  "
      ]
     },
     "execution_count": 3,
     "metadata": {},
     "output_type": "execute_result"
    }
   ],
   "source": [
    "comcast.head()"
   ]
  },
  {
   "cell_type": "code",
   "execution_count": 4,
   "metadata": {},
   "outputs": [
    {
     "data": {
      "text/plain": [
       "(2224, 11)"
      ]
     },
     "execution_count": 4,
     "metadata": {},
     "output_type": "execute_result"
    }
   ],
   "source": [
    "comcast.shape"
   ]
  },
  {
   "cell_type": "code",
   "execution_count": 5,
   "metadata": {},
   "outputs": [
    {
     "name": "stdout",
     "output_type": "stream",
     "text": [
      "<class 'pandas.core.frame.DataFrame'>\n",
      "RangeIndex: 2224 entries, 0 to 2223\n",
      "Data columns (total 11 columns):\n",
      "Ticket #                       2224 non-null object\n",
      "Customer Complaint             2224 non-null object\n",
      "Date                           2224 non-null object\n",
      "Date_month_year                2224 non-null object\n",
      "Time                           2224 non-null object\n",
      "Received Via                   2224 non-null object\n",
      "City                           2224 non-null object\n",
      "State                          2224 non-null object\n",
      "Zip code                       2224 non-null int64\n",
      "Status                         2224 non-null object\n",
      "Filing on Behalf of Someone    2224 non-null object\n",
      "dtypes: int64(1), object(10)\n",
      "memory usage: 191.2+ KB\n"
     ]
    }
   ],
   "source": [
    "comcast.info()"
   ]
  },
  {
   "cell_type": "code",
   "execution_count": 6,
   "metadata": {},
   "outputs": [
    {
     "data": {
      "text/plain": [
       "0     22-04-15 3:53:50 PM\n",
       "1    04-08-15 10:22:56 AM\n",
       "Name: DateTime, dtype: object"
      ]
     },
     "execution_count": 6,
     "metadata": {},
     "output_type": "execute_result"
    }
   ],
   "source": [
    "comcast[\"DateTime\"] = comcast.Date +\" \"+ comcast.Time\n",
    "comcast.DateTime[:2]"
   ]
  },
  {
   "cell_type": "code",
   "execution_count": 7,
   "metadata": {},
   "outputs": [
    {
     "data": {
      "text/html": [
       "<div>\n",
       "<style scoped>\n",
       "    .dataframe tbody tr th:only-of-type {\n",
       "        vertical-align: middle;\n",
       "    }\n",
       "\n",
       "    .dataframe tbody tr th {\n",
       "        vertical-align: top;\n",
       "    }\n",
       "\n",
       "    .dataframe thead th {\n",
       "        text-align: right;\n",
       "    }\n",
       "</style>\n",
       "<table border=\"1\" class=\"dataframe\">\n",
       "  <thead>\n",
       "    <tr style=\"text-align: right;\">\n",
       "      <th></th>\n",
       "      <th>Ticket #</th>\n",
       "      <th>Customer Complaint</th>\n",
       "      <th>Date</th>\n",
       "      <th>Date_month_year</th>\n",
       "      <th>Time</th>\n",
       "      <th>Received Via</th>\n",
       "      <th>City</th>\n",
       "      <th>State</th>\n",
       "      <th>Zip code</th>\n",
       "      <th>Status</th>\n",
       "      <th>Filing on Behalf of Someone</th>\n",
       "      <th>DateTime</th>\n",
       "    </tr>\n",
       "  </thead>\n",
       "  <tbody>\n",
       "    <tr>\n",
       "      <td>0</td>\n",
       "      <td>250635</td>\n",
       "      <td>Comcast Cable Internet Speeds</td>\n",
       "      <td>22-04-15</td>\n",
       "      <td>22-Apr-15</td>\n",
       "      <td>3:53:50 PM</td>\n",
       "      <td>Customer Care Call</td>\n",
       "      <td>Abingdon</td>\n",
       "      <td>Maryland</td>\n",
       "      <td>21009</td>\n",
       "      <td>Closed</td>\n",
       "      <td>No</td>\n",
       "      <td>2015-04-22 15:53:50</td>\n",
       "    </tr>\n",
       "    <tr>\n",
       "      <td>1</td>\n",
       "      <td>223441</td>\n",
       "      <td>Payment disappear - service got disconnected</td>\n",
       "      <td>04-08-15</td>\n",
       "      <td>04-Aug-15</td>\n",
       "      <td>10:22:56 AM</td>\n",
       "      <td>Internet</td>\n",
       "      <td>Acworth</td>\n",
       "      <td>Georgia</td>\n",
       "      <td>30102</td>\n",
       "      <td>Closed</td>\n",
       "      <td>No</td>\n",
       "      <td>2015-08-04 10:22:56</td>\n",
       "    </tr>\n",
       "  </tbody>\n",
       "</table>\n",
       "</div>"
      ],
      "text/plain": [
       "  Ticket #                            Customer Complaint      Date  \\\n",
       "0   250635                 Comcast Cable Internet Speeds  22-04-15   \n",
       "1   223441  Payment disappear - service got disconnected  04-08-15   \n",
       "\n",
       "  Date_month_year         Time        Received Via      City     State  \\\n",
       "0       22-Apr-15   3:53:50 PM  Customer Care Call  Abingdon  Maryland   \n",
       "1       04-Aug-15  10:22:56 AM            Internet   Acworth   Georgia   \n",
       "\n",
       "   Zip code  Status Filing on Behalf of Someone            DateTime  \n",
       "0     21009  Closed                          No 2015-04-22 15:53:50  \n",
       "1     30102  Closed                          No 2015-08-04 10:22:56  "
      ]
     },
     "execution_count": 7,
     "metadata": {},
     "output_type": "execute_result"
    }
   ],
   "source": [
    "comcast.DateTime = pd.to_datetime(comcast.DateTime,format= \"%d-%m-%y %I:%M:%S %p\")\n",
    "comcast[:2]"
   ]
  },
  {
   "cell_type": "code",
   "execution_count": 8,
   "metadata": {},
   "outputs": [
    {
     "name": "stdout",
     "output_type": "stream",
     "text": [
      "<class 'pandas.core.frame.DataFrame'>\n",
      "RangeIndex: 2224 entries, 0 to 2223\n",
      "Data columns (total 12 columns):\n",
      "Ticket #                       2224 non-null object\n",
      "Customer Complaint             2224 non-null object\n",
      "Date                           2224 non-null object\n",
      "Date_month_year                2224 non-null object\n",
      "Time                           2224 non-null object\n",
      "Received Via                   2224 non-null object\n",
      "City                           2224 non-null object\n",
      "State                          2224 non-null object\n",
      "Zip code                       2224 non-null int64\n",
      "Status                         2224 non-null object\n",
      "Filing on Behalf of Someone    2224 non-null object\n",
      "DateTime                       2224 non-null datetime64[ns]\n",
      "dtypes: datetime64[ns](1), int64(1), object(10)\n",
      "memory usage: 208.6+ KB\n"
     ]
    }
   ],
   "source": [
    "comcast.info()"
   ]
  },
  {
   "cell_type": "code",
   "execution_count": 9,
   "metadata": {},
   "outputs": [],
   "source": [
    "comcast.drop(['Date','Date_month_year','Time'],axis=1,inplace=True)"
   ]
  },
  {
   "cell_type": "code",
   "execution_count": 10,
   "metadata": {},
   "outputs": [
    {
     "data": {
      "text/html": [
       "<div>\n",
       "<style scoped>\n",
       "    .dataframe tbody tr th:only-of-type {\n",
       "        vertical-align: middle;\n",
       "    }\n",
       "\n",
       "    .dataframe tbody tr th {\n",
       "        vertical-align: top;\n",
       "    }\n",
       "\n",
       "    .dataframe thead th {\n",
       "        text-align: right;\n",
       "    }\n",
       "</style>\n",
       "<table border=\"1\" class=\"dataframe\">\n",
       "  <thead>\n",
       "    <tr style=\"text-align: right;\">\n",
       "      <th></th>\n",
       "      <th>Ticket #</th>\n",
       "      <th>Customer Complaint</th>\n",
       "      <th>Received Via</th>\n",
       "      <th>City</th>\n",
       "      <th>State</th>\n",
       "      <th>Zip code</th>\n",
       "      <th>Status</th>\n",
       "      <th>Filing on Behalf of Someone</th>\n",
       "      <th>DateTime</th>\n",
       "    </tr>\n",
       "  </thead>\n",
       "  <tbody>\n",
       "    <tr>\n",
       "      <td>0</td>\n",
       "      <td>250635</td>\n",
       "      <td>Comcast Cable Internet Speeds</td>\n",
       "      <td>Customer Care Call</td>\n",
       "      <td>Abingdon</td>\n",
       "      <td>Maryland</td>\n",
       "      <td>21009</td>\n",
       "      <td>Closed</td>\n",
       "      <td>No</td>\n",
       "      <td>2015-04-22 15:53:50</td>\n",
       "    </tr>\n",
       "    <tr>\n",
       "      <td>1</td>\n",
       "      <td>223441</td>\n",
       "      <td>Payment disappear - service got disconnected</td>\n",
       "      <td>Internet</td>\n",
       "      <td>Acworth</td>\n",
       "      <td>Georgia</td>\n",
       "      <td>30102</td>\n",
       "      <td>Closed</td>\n",
       "      <td>No</td>\n",
       "      <td>2015-08-04 10:22:56</td>\n",
       "    </tr>\n",
       "  </tbody>\n",
       "</table>\n",
       "</div>"
      ],
      "text/plain": [
       "  Ticket #                            Customer Complaint        Received Via  \\\n",
       "0   250635                 Comcast Cable Internet Speeds  Customer Care Call   \n",
       "1   223441  Payment disappear - service got disconnected            Internet   \n",
       "\n",
       "       City     State  Zip code  Status Filing on Behalf of Someone  \\\n",
       "0  Abingdon  Maryland     21009  Closed                          No   \n",
       "1   Acworth   Georgia     30102  Closed                          No   \n",
       "\n",
       "             DateTime  \n",
       "0 2015-04-22 15:53:50  \n",
       "1 2015-08-04 10:22:56  "
      ]
     },
     "execution_count": 10,
     "metadata": {},
     "output_type": "execute_result"
    }
   ],
   "source": [
    "comcast[:2]"
   ]
  },
  {
   "cell_type": "code",
   "execution_count": 11,
   "metadata": {},
   "outputs": [
    {
     "name": "stdout",
     "output_type": "stream",
     "text": [
      "<class 'pandas.core.frame.DataFrame'>\n",
      "RangeIndex: 2224 entries, 0 to 2223\n",
      "Data columns (total 9 columns):\n",
      "Ticket #                       2224 non-null object\n",
      "Customer Complaint             2224 non-null object\n",
      "Received Via                   2224 non-null object\n",
      "City                           2224 non-null object\n",
      "State                          2224 non-null object\n",
      "Zip code                       2224 non-null int64\n",
      "Status                         2224 non-null object\n",
      "Filing on Behalf of Someone    2224 non-null object\n",
      "DateTime                       2224 non-null datetime64[ns]\n",
      "dtypes: datetime64[ns](1), int64(1), object(7)\n",
      "memory usage: 156.5+ KB\n"
     ]
    }
   ],
   "source": [
    "comcast.info()"
   ]
  },
  {
   "cell_type": "code",
   "execution_count": 12,
   "metadata": {},
   "outputs": [
    {
     "data": {
      "text/html": [
       "<div>\n",
       "<style scoped>\n",
       "    .dataframe tbody tr th:only-of-type {\n",
       "        vertical-align: middle;\n",
       "    }\n",
       "\n",
       "    .dataframe tbody tr th {\n",
       "        vertical-align: top;\n",
       "    }\n",
       "\n",
       "    .dataframe thead th {\n",
       "        text-align: right;\n",
       "    }\n",
       "</style>\n",
       "<table border=\"1\" class=\"dataframe\">\n",
       "  <thead>\n",
       "    <tr style=\"text-align: right;\">\n",
       "      <th></th>\n",
       "      <th>Ticket #</th>\n",
       "      <th>Customer Complaint</th>\n",
       "      <th>Received Via</th>\n",
       "      <th>City</th>\n",
       "      <th>State</th>\n",
       "      <th>Zip code</th>\n",
       "      <th>Status</th>\n",
       "      <th>Filing on Behalf of Someone</th>\n",
       "      <th>DateTime</th>\n",
       "      <th>Day</th>\n",
       "    </tr>\n",
       "  </thead>\n",
       "  <tbody>\n",
       "    <tr>\n",
       "      <td>0</td>\n",
       "      <td>250635</td>\n",
       "      <td>Comcast Cable Internet Speeds</td>\n",
       "      <td>Customer Care Call</td>\n",
       "      <td>Abingdon</td>\n",
       "      <td>Maryland</td>\n",
       "      <td>21009</td>\n",
       "      <td>Closed</td>\n",
       "      <td>No</td>\n",
       "      <td>2015-04-22 15:53:50</td>\n",
       "      <td>22</td>\n",
       "    </tr>\n",
       "    <tr>\n",
       "      <td>1</td>\n",
       "      <td>223441</td>\n",
       "      <td>Payment disappear - service got disconnected</td>\n",
       "      <td>Internet</td>\n",
       "      <td>Acworth</td>\n",
       "      <td>Georgia</td>\n",
       "      <td>30102</td>\n",
       "      <td>Closed</td>\n",
       "      <td>No</td>\n",
       "      <td>2015-08-04 10:22:56</td>\n",
       "      <td>4</td>\n",
       "    </tr>\n",
       "  </tbody>\n",
       "</table>\n",
       "</div>"
      ],
      "text/plain": [
       "  Ticket #                            Customer Complaint        Received Via  \\\n",
       "0   250635                 Comcast Cable Internet Speeds  Customer Care Call   \n",
       "1   223441  Payment disappear - service got disconnected            Internet   \n",
       "\n",
       "       City     State  Zip code  Status Filing on Behalf of Someone  \\\n",
       "0  Abingdon  Maryland     21009  Closed                          No   \n",
       "1   Acworth   Georgia     30102  Closed                          No   \n",
       "\n",
       "             DateTime  Day  \n",
       "0 2015-04-22 15:53:50   22  \n",
       "1 2015-08-04 10:22:56    4  "
      ]
     },
     "execution_count": 12,
     "metadata": {},
     "output_type": "execute_result"
    }
   ],
   "source": [
    "comcast[\"Day\"] = pd.DatetimeIndex(comcast[\"DateTime\"]).day\n",
    "comcast[:2]"
   ]
  },
  {
   "cell_type": "code",
   "execution_count": 13,
   "metadata": {},
   "outputs": [
    {
     "data": {
      "text/html": [
       "<div>\n",
       "<style scoped>\n",
       "    .dataframe tbody tr th:only-of-type {\n",
       "        vertical-align: middle;\n",
       "    }\n",
       "\n",
       "    .dataframe tbody tr th {\n",
       "        vertical-align: top;\n",
       "    }\n",
       "\n",
       "    .dataframe thead th {\n",
       "        text-align: right;\n",
       "    }\n",
       "</style>\n",
       "<table border=\"1\" class=\"dataframe\">\n",
       "  <thead>\n",
       "    <tr style=\"text-align: right;\">\n",
       "      <th></th>\n",
       "      <th>Ticket #</th>\n",
       "      <th>Customer Complaint</th>\n",
       "      <th>Received Via</th>\n",
       "      <th>City</th>\n",
       "      <th>State</th>\n",
       "      <th>Zip code</th>\n",
       "      <th>Status</th>\n",
       "      <th>Filing on Behalf of Someone</th>\n",
       "      <th>DateTime</th>\n",
       "      <th>Day</th>\n",
       "      <th>Month</th>\n",
       "    </tr>\n",
       "  </thead>\n",
       "  <tbody>\n",
       "    <tr>\n",
       "      <td>0</td>\n",
       "      <td>250635</td>\n",
       "      <td>Comcast Cable Internet Speeds</td>\n",
       "      <td>Customer Care Call</td>\n",
       "      <td>Abingdon</td>\n",
       "      <td>Maryland</td>\n",
       "      <td>21009</td>\n",
       "      <td>Closed</td>\n",
       "      <td>No</td>\n",
       "      <td>2015-04-22 15:53:50</td>\n",
       "      <td>22</td>\n",
       "      <td>4</td>\n",
       "    </tr>\n",
       "    <tr>\n",
       "      <td>1</td>\n",
       "      <td>223441</td>\n",
       "      <td>Payment disappear - service got disconnected</td>\n",
       "      <td>Internet</td>\n",
       "      <td>Acworth</td>\n",
       "      <td>Georgia</td>\n",
       "      <td>30102</td>\n",
       "      <td>Closed</td>\n",
       "      <td>No</td>\n",
       "      <td>2015-08-04 10:22:56</td>\n",
       "      <td>4</td>\n",
       "      <td>8</td>\n",
       "    </tr>\n",
       "  </tbody>\n",
       "</table>\n",
       "</div>"
      ],
      "text/plain": [
       "  Ticket #                            Customer Complaint        Received Via  \\\n",
       "0   250635                 Comcast Cable Internet Speeds  Customer Care Call   \n",
       "1   223441  Payment disappear - service got disconnected            Internet   \n",
       "\n",
       "       City     State  Zip code  Status Filing on Behalf of Someone  \\\n",
       "0  Abingdon  Maryland     21009  Closed                          No   \n",
       "1   Acworth   Georgia     30102  Closed                          No   \n",
       "\n",
       "             DateTime  Day  Month  \n",
       "0 2015-04-22 15:53:50   22      4  \n",
       "1 2015-08-04 10:22:56    4      8  "
      ]
     },
     "execution_count": 13,
     "metadata": {},
     "output_type": "execute_result"
    }
   ],
   "source": [
    "comcast[\"Month\"] = pd.DatetimeIndex(comcast[\"DateTime\"]).month\n",
    "comcast[:2]"
   ]
  },
  {
   "cell_type": "code",
   "execution_count": 14,
   "metadata": {},
   "outputs": [
    {
     "data": {
      "text/html": [
       "<div>\n",
       "<style scoped>\n",
       "    .dataframe tbody tr th:only-of-type {\n",
       "        vertical-align: middle;\n",
       "    }\n",
       "\n",
       "    .dataframe tbody tr th {\n",
       "        vertical-align: top;\n",
       "    }\n",
       "\n",
       "    .dataframe thead th {\n",
       "        text-align: right;\n",
       "    }\n",
       "</style>\n",
       "<table border=\"1\" class=\"dataframe\">\n",
       "  <thead>\n",
       "    <tr style=\"text-align: right;\">\n",
       "      <th></th>\n",
       "      <th>Ticket #</th>\n",
       "      <th>Customer Complaint</th>\n",
       "      <th>Received Via</th>\n",
       "      <th>City</th>\n",
       "      <th>State</th>\n",
       "      <th>Zip code</th>\n",
       "      <th>Status</th>\n",
       "      <th>Filing on Behalf of Someone</th>\n",
       "      <th>DateTime</th>\n",
       "      <th>Day</th>\n",
       "      <th>Month</th>\n",
       "      <th>Year</th>\n",
       "    </tr>\n",
       "  </thead>\n",
       "  <tbody>\n",
       "    <tr>\n",
       "      <td>0</td>\n",
       "      <td>250635</td>\n",
       "      <td>Comcast Cable Internet Speeds</td>\n",
       "      <td>Customer Care Call</td>\n",
       "      <td>Abingdon</td>\n",
       "      <td>Maryland</td>\n",
       "      <td>21009</td>\n",
       "      <td>Closed</td>\n",
       "      <td>No</td>\n",
       "      <td>2015-04-22 15:53:50</td>\n",
       "      <td>22</td>\n",
       "      <td>4</td>\n",
       "      <td>2015</td>\n",
       "    </tr>\n",
       "    <tr>\n",
       "      <td>1</td>\n",
       "      <td>223441</td>\n",
       "      <td>Payment disappear - service got disconnected</td>\n",
       "      <td>Internet</td>\n",
       "      <td>Acworth</td>\n",
       "      <td>Georgia</td>\n",
       "      <td>30102</td>\n",
       "      <td>Closed</td>\n",
       "      <td>No</td>\n",
       "      <td>2015-08-04 10:22:56</td>\n",
       "      <td>4</td>\n",
       "      <td>8</td>\n",
       "      <td>2015</td>\n",
       "    </tr>\n",
       "  </tbody>\n",
       "</table>\n",
       "</div>"
      ],
      "text/plain": [
       "  Ticket #                            Customer Complaint        Received Via  \\\n",
       "0   250635                 Comcast Cable Internet Speeds  Customer Care Call   \n",
       "1   223441  Payment disappear - service got disconnected            Internet   \n",
       "\n",
       "       City     State  Zip code  Status Filing on Behalf of Someone  \\\n",
       "0  Abingdon  Maryland     21009  Closed                          No   \n",
       "1   Acworth   Georgia     30102  Closed                          No   \n",
       "\n",
       "             DateTime  Day  Month  Year  \n",
       "0 2015-04-22 15:53:50   22      4  2015  \n",
       "1 2015-08-04 10:22:56    4      8  2015  "
      ]
     },
     "execution_count": 14,
     "metadata": {},
     "output_type": "execute_result"
    }
   ],
   "source": [
    "comcast[\"Year\"] = pd.DatetimeIndex(comcast[\"DateTime\"]).year\n",
    "comcast[:2]"
   ]
  },
  {
   "cell_type": "code",
   "execution_count": 15,
   "metadata": {},
   "outputs": [
    {
     "data": {
      "text/html": [
       "<div>\n",
       "<style scoped>\n",
       "    .dataframe tbody tr th:only-of-type {\n",
       "        vertical-align: middle;\n",
       "    }\n",
       "\n",
       "    .dataframe tbody tr th {\n",
       "        vertical-align: top;\n",
       "    }\n",
       "\n",
       "    .dataframe thead th {\n",
       "        text-align: right;\n",
       "    }\n",
       "</style>\n",
       "<table border=\"1\" class=\"dataframe\">\n",
       "  <thead>\n",
       "    <tr style=\"text-align: right;\">\n",
       "      <th></th>\n",
       "      <th>Ticket #</th>\n",
       "      <th>Customer Complaint</th>\n",
       "      <th>Received Via</th>\n",
       "      <th>City</th>\n",
       "      <th>State</th>\n",
       "      <th>Zip code</th>\n",
       "      <th>Status</th>\n",
       "      <th>Filing on Behalf of Someone</th>\n",
       "      <th>DateTime</th>\n",
       "      <th>Day</th>\n",
       "      <th>Month</th>\n",
       "      <th>Year</th>\n",
       "    </tr>\n",
       "  </thead>\n",
       "  <tbody>\n",
       "    <tr>\n",
       "      <td>0</td>\n",
       "      <td>250635</td>\n",
       "      <td>Comcast Cable Internet Speeds</td>\n",
       "      <td>Customer Care Call</td>\n",
       "      <td>Abingdon</td>\n",
       "      <td>Maryland</td>\n",
       "      <td>21009</td>\n",
       "      <td>Closed</td>\n",
       "      <td>No</td>\n",
       "      <td>2015-04-22 15:53:50</td>\n",
       "      <td>22</td>\n",
       "      <td>4</td>\n",
       "      <td>2015</td>\n",
       "    </tr>\n",
       "    <tr>\n",
       "      <td>1</td>\n",
       "      <td>223441</td>\n",
       "      <td>Payment disappear - service got disconnected</td>\n",
       "      <td>Internet</td>\n",
       "      <td>Acworth</td>\n",
       "      <td>Georgia</td>\n",
       "      <td>30102</td>\n",
       "      <td>Closed</td>\n",
       "      <td>No</td>\n",
       "      <td>2015-08-04 10:22:56</td>\n",
       "      <td>4</td>\n",
       "      <td>8</td>\n",
       "      <td>2015</td>\n",
       "    </tr>\n",
       "  </tbody>\n",
       "</table>\n",
       "</div>"
      ],
      "text/plain": [
       "  Ticket #                            Customer Complaint        Received Via  \\\n",
       "0   250635                 Comcast Cable Internet Speeds  Customer Care Call   \n",
       "1   223441  Payment disappear - service got disconnected            Internet   \n",
       "\n",
       "       City     State  Zip code  Status Filing on Behalf of Someone  \\\n",
       "0  Abingdon  Maryland     21009  Closed                          No   \n",
       "1   Acworth   Georgia     30102  Closed                          No   \n",
       "\n",
       "             DateTime  Day  Month  Year  \n",
       "0 2015-04-22 15:53:50   22      4  2015  \n",
       "1 2015-08-04 10:22:56    4      8  2015  "
      ]
     },
     "execution_count": 15,
     "metadata": {},
     "output_type": "execute_result"
    }
   ],
   "source": [
    "comcast[:2]"
   ]
  },
  {
   "cell_type": "markdown",
   "metadata": {},
   "source": [
    "Monthly Granuality Level"
   ]
  },
  {
   "cell_type": "code",
   "execution_count": 16,
   "metadata": {},
   "outputs": [
    {
     "data": {
      "text/plain": [
       "Month\n",
       "1       55\n",
       "2       59\n",
       "3       45\n",
       "4      375\n",
       "5      317\n",
       "6     1046\n",
       "7       49\n",
       "8       67\n",
       "9       55\n",
       "10      53\n",
       "11      38\n",
       "12      65\n",
       "Name: Customer Complaint, dtype: int64"
      ]
     },
     "execution_count": 16,
     "metadata": {},
     "output_type": "execute_result"
    }
   ],
   "source": [
    "comcast.groupby(\"Month\").count()['Customer Complaint']"
   ]
  },
  {
   "cell_type": "code",
   "execution_count": 17,
   "metadata": {},
   "outputs": [
    {
     "data": {
      "image/png": "[encoded data removed]",
      "text/plain": [
       "<Figure size 720x360 with 1 Axes>"
      ]
     },
     "metadata": {
      "needs_background": "light"
     },
     "output_type": "display_data"
    }
   ],
   "source": [
    "plt.figure(figsize = [10, 5]) #ininches\n",
    "comcast.groupby(\"Month\").count()['Customer Complaint'].plot(kind = \"line\")\n",
    "comcast.groupby(\"Month\").count()['Customer Complaint'].plot(kind = \"bar\") \n",
    "plt.xticks(np.arange(12), [1,2,3,4,5,6,7,8,9,10,11,12] ) \n",
    "plt.show()  #to suppress text"
   ]
  },
  {
   "cell_type": "code",
   "execution_count": 18,
   "metadata": {},
   "outputs": [
    {
     "data": {
      "text/html": [
       "<div>\n",
       "<style scoped>\n",
       "    .dataframe tbody tr th:only-of-type {\n",
       "        vertical-align: middle;\n",
       "    }\n",
       "\n",
       "    .dataframe tbody tr th {\n",
       "        vertical-align: top;\n",
       "    }\n",
       "\n",
       "    .dataframe thead th {\n",
       "        text-align: right;\n",
       "    }\n",
       "</style>\n",
       "<table border=\"1\" class=\"dataframe\">\n",
       "  <thead>\n",
       "    <tr style=\"text-align: right;\">\n",
       "      <th></th>\n",
       "      <th>Ticket #</th>\n",
       "      <th>Customer Complaint</th>\n",
       "      <th>Received Via</th>\n",
       "      <th>City</th>\n",
       "      <th>State</th>\n",
       "      <th>Zip code</th>\n",
       "      <th>Status</th>\n",
       "      <th>Filing on Behalf of Someone</th>\n",
       "      <th>DateTime</th>\n",
       "      <th>Day</th>\n",
       "      <th>Month</th>\n",
       "      <th>Year</th>\n",
       "    </tr>\n",
       "  </thead>\n",
       "  <tbody>\n",
       "    <tr>\n",
       "      <td>0</td>\n",
       "      <td>250635</td>\n",
       "      <td>Comcast Cable Internet Speeds</td>\n",
       "      <td>Customer Care Call</td>\n",
       "      <td>Abingdon</td>\n",
       "      <td>Maryland</td>\n",
       "      <td>21009</td>\n",
       "      <td>Closed</td>\n",
       "      <td>No</td>\n",
       "      <td>2015-04-22 15:53:50</td>\n",
       "      <td>22</td>\n",
       "      <td>4</td>\n",
       "      <td>2015</td>\n",
       "    </tr>\n",
       "    <tr>\n",
       "      <td>1</td>\n",
       "      <td>223441</td>\n",
       "      <td>Payment disappear - service got disconnected</td>\n",
       "      <td>Internet</td>\n",
       "      <td>Acworth</td>\n",
       "      <td>Georgia</td>\n",
       "      <td>30102</td>\n",
       "      <td>Closed</td>\n",
       "      <td>No</td>\n",
       "      <td>2015-08-04 10:22:56</td>\n",
       "      <td>4</td>\n",
       "      <td>8</td>\n",
       "      <td>2015</td>\n",
       "    </tr>\n",
       "  </tbody>\n",
       "</table>\n",
       "</div>"
      ],
      "text/plain": [
       "  Ticket #                            Customer Complaint        Received Via  \\\n",
       "0   250635                 Comcast Cable Internet Speeds  Customer Care Call   \n",
       "1   223441  Payment disappear - service got disconnected            Internet   \n",
       "\n",
       "       City     State  Zip code  Status Filing on Behalf of Someone  \\\n",
       "0  Abingdon  Maryland     21009  Closed                          No   \n",
       "1   Acworth   Georgia     30102  Closed                          No   \n",
       "\n",
       "             DateTime  Day  Month  Year  \n",
       "0 2015-04-22 15:53:50   22      4  2015  \n",
       "1 2015-08-04 10:22:56    4      8  2015  "
      ]
     },
     "execution_count": 18,
     "metadata": {},
     "output_type": "execute_result"
    }
   ],
   "source": [
    "comcast[:2]"
   ]
  },
  {
   "cell_type": "markdown",
   "metadata": {},
   "source": [
    "To Group the complains  by Daily Granuality level we need to convert day to str type"
   ]
  },
  {
   "cell_type": "code",
   "execution_count": 19,
   "metadata": {},
   "outputs": [],
   "source": [
    "comcast[\"Day\"] = comcast[\"Day\"].astype(\"str\")"
   ]
  },
  {
   "cell_type": "code",
   "execution_count": 20,
   "metadata": {},
   "outputs": [],
   "source": [
    "comcast[\"Month\"] = comcast[\"Month\"].astype(\"str\")"
   ]
  },
  {
   "cell_type": "code",
   "execution_count": 21,
   "metadata": {},
   "outputs": [],
   "source": [
    "comcast[\"DayMonth\"] = comcast[\"Day\"]+\" \"+comcast[\"Month\"]"
   ]
  },
  {
   "cell_type": "code",
   "execution_count": 22,
   "metadata": {},
   "outputs": [
    {
     "data": {
      "text/html": [
       "<div>\n",
       "<style scoped>\n",
       "    .dataframe tbody tr th:only-of-type {\n",
       "        vertical-align: middle;\n",
       "    }\n",
       "\n",
       "    .dataframe tbody tr th {\n",
       "        vertical-align: top;\n",
       "    }\n",
       "\n",
       "    .dataframe thead th {\n",
       "        text-align: right;\n",
       "    }\n",
       "</style>\n",
       "<table border=\"1\" class=\"dataframe\">\n",
       "  <thead>\n",
       "    <tr style=\"text-align: right;\">\n",
       "      <th></th>\n",
       "      <th>Ticket #</th>\n",
       "      <th>Customer Complaint</th>\n",
       "      <th>Received Via</th>\n",
       "      <th>City</th>\n",
       "      <th>State</th>\n",
       "      <th>Zip code</th>\n",
       "      <th>Status</th>\n",
       "      <th>Filing on Behalf of Someone</th>\n",
       "      <th>DateTime</th>\n",
       "      <th>Day</th>\n",
       "      <th>Month</th>\n",
       "      <th>Year</th>\n",
       "      <th>DayMonth</th>\n",
       "    </tr>\n",
       "  </thead>\n",
       "  <tbody>\n",
       "    <tr>\n",
       "      <td>0</td>\n",
       "      <td>250635</td>\n",
       "      <td>Comcast Cable Internet Speeds</td>\n",
       "      <td>Customer Care Call</td>\n",
       "      <td>Abingdon</td>\n",
       "      <td>Maryland</td>\n",
       "      <td>21009</td>\n",
       "      <td>Closed</td>\n",
       "      <td>No</td>\n",
       "      <td>2015-04-22 15:53:50</td>\n",
       "      <td>22</td>\n",
       "      <td>4</td>\n",
       "      <td>2015</td>\n",
       "      <td>22 4</td>\n",
       "    </tr>\n",
       "    <tr>\n",
       "      <td>1</td>\n",
       "      <td>223441</td>\n",
       "      <td>Payment disappear - service got disconnected</td>\n",
       "      <td>Internet</td>\n",
       "      <td>Acworth</td>\n",
       "      <td>Georgia</td>\n",
       "      <td>30102</td>\n",
       "      <td>Closed</td>\n",
       "      <td>No</td>\n",
       "      <td>2015-08-04 10:22:56</td>\n",
       "      <td>4</td>\n",
       "      <td>8</td>\n",
       "      <td>2015</td>\n",
       "      <td>4 8</td>\n",
       "    </tr>\n",
       "  </tbody>\n",
       "</table>\n",
       "</div>"
      ],
      "text/plain": [
       "  Ticket #                            Customer Complaint        Received Via  \\\n",
       "0   250635                 Comcast Cable Internet Speeds  Customer Care Call   \n",
       "1   223441  Payment disappear - service got disconnected            Internet   \n",
       "\n",
       "       City     State  Zip code  Status Filing on Behalf of Someone  \\\n",
       "0  Abingdon  Maryland     21009  Closed                          No   \n",
       "1   Acworth   Georgia     30102  Closed                          No   \n",
       "\n",
       "             DateTime Day Month  Year DayMonth  \n",
       "0 2015-04-22 15:53:50  22     4  2015     22 4  \n",
       "1 2015-08-04 10:22:56   4     8  2015      4 8  "
      ]
     },
     "execution_count": 22,
     "metadata": {},
     "output_type": "execute_result"
    }
   ],
   "source": [
    "comcast[:2]"
   ]
  },
  {
   "cell_type": "code",
   "execution_count": 23,
   "metadata": {},
   "outputs": [],
   "source": [
    "comcast[\"DayMonth\"] = comcast.DateTime.apply(lambda x: x.strftime(\"%d-%b\"))"
   ]
  },
  {
   "cell_type": "code",
   "execution_count": 24,
   "metadata": {},
   "outputs": [
    {
     "data": {
      "text/html": [
       "<div>\n",
       "<style scoped>\n",
       "    .dataframe tbody tr th:only-of-type {\n",
       "        vertical-align: middle;\n",
       "    }\n",
       "\n",
       "    .dataframe tbody tr th {\n",
       "        vertical-align: top;\n",
       "    }\n",
       "\n",
       "    .dataframe thead th {\n",
       "        text-align: right;\n",
       "    }\n",
       "</style>\n",
       "<table border=\"1\" class=\"dataframe\">\n",
       "  <thead>\n",
       "    <tr style=\"text-align: right;\">\n",
       "      <th></th>\n",
       "      <th>Ticket #</th>\n",
       "      <th>Customer Complaint</th>\n",
       "      <th>Received Via</th>\n",
       "      <th>City</th>\n",
       "      <th>State</th>\n",
       "      <th>Zip code</th>\n",
       "      <th>Status</th>\n",
       "      <th>Filing on Behalf of Someone</th>\n",
       "      <th>DateTime</th>\n",
       "      <th>Day</th>\n",
       "      <th>Month</th>\n",
       "      <th>Year</th>\n",
       "      <th>DayMonth</th>\n",
       "    </tr>\n",
       "  </thead>\n",
       "  <tbody>\n",
       "    <tr>\n",
       "      <td>0</td>\n",
       "      <td>250635</td>\n",
       "      <td>Comcast Cable Internet Speeds</td>\n",
       "      <td>Customer Care Call</td>\n",
       "      <td>Abingdon</td>\n",
       "      <td>Maryland</td>\n",
       "      <td>21009</td>\n",
       "      <td>Closed</td>\n",
       "      <td>No</td>\n",
       "      <td>2015-04-22 15:53:50</td>\n",
       "      <td>22</td>\n",
       "      <td>4</td>\n",
       "      <td>2015</td>\n",
       "      <td>22-Apr</td>\n",
       "    </tr>\n",
       "    <tr>\n",
       "      <td>1</td>\n",
       "      <td>223441</td>\n",
       "      <td>Payment disappear - service got disconnected</td>\n",
       "      <td>Internet</td>\n",
       "      <td>Acworth</td>\n",
       "      <td>Georgia</td>\n",
       "      <td>30102</td>\n",
       "      <td>Closed</td>\n",
       "      <td>No</td>\n",
       "      <td>2015-08-04 10:22:56</td>\n",
       "      <td>4</td>\n",
       "      <td>8</td>\n",
       "      <td>2015</td>\n",
       "      <td>04-Aug</td>\n",
       "    </tr>\n",
       "  </tbody>\n",
       "</table>\n",
       "</div>"
      ],
      "text/plain": [
       "  Ticket #                            Customer Complaint        Received Via  \\\n",
       "0   250635                 Comcast Cable Internet Speeds  Customer Care Call   \n",
       "1   223441  Payment disappear - service got disconnected            Internet   \n",
       "\n",
       "       City     State  Zip code  Status Filing on Behalf of Someone  \\\n",
       "0  Abingdon  Maryland     21009  Closed                          No   \n",
       "1   Acworth   Georgia     30102  Closed                          No   \n",
       "\n",
       "             DateTime Day Month  Year DayMonth  \n",
       "0 2015-04-22 15:53:50  22     4  2015   22-Apr  \n",
       "1 2015-08-04 10:22:56   4     8  2015   04-Aug  "
      ]
     },
     "execution_count": 24,
     "metadata": {},
     "output_type": "execute_result"
    }
   ],
   "source": [
    "comcast[:2]"
   ]
  },
  {
   "cell_type": "code",
   "execution_count": 25,
   "metadata": {},
   "outputs": [
    {
     "data": {
      "text/plain": [
       "DayMonth\n",
       "04-Apr    12\n",
       "04-Aug    28\n",
       "04-Dec    15\n",
       "04-Feb    27\n",
       "04-Jan    18\n",
       "          ..\n",
       "29-May    14\n",
       "30-Apr    24\n",
       "30-Jun    53\n",
       "30-May     9\n",
       "31-May    10\n",
       "Name: Customer Complaint, Length: 91, dtype: int64"
      ]
     },
     "execution_count": 25,
     "metadata": {},
     "output_type": "execute_result"
    }
   ],
   "source": [
    "comcast.groupby(\"DayMonth\").count()['Customer Complaint']"
   ]
  },
  {
   "cell_type": "code",
   "execution_count": 26,
   "metadata": {},
   "outputs": [
    {
     "data": {
      "image/png": "[encoded data removed]",
      "text/plain": [
       "<Figure size 1440x360 with 1 Axes>"
      ]
     },
     "metadata": {
      "needs_background": "light"
     },
     "output_type": "display_data"
    }
   ],
   "source": [
    "plt.figure(figsize = [20, 5])\n",
    "comcast.groupby(\"DayMonth\").count()['Customer Complaint'].plot(kind = \"bar\")\n",
    "plt.show()"
   ]
  },
  {
   "cell_type": "markdown",
   "metadata": {},
   "source": [
    "Plot Shows Highest complains registered on 24th June "
   ]
  },
  {
   "cell_type": "code",
   "execution_count": 27,
   "metadata": {},
   "outputs": [
    {
     "data": {
      "text/plain": [
       "0                           Comcast Cable Internet Speeds\n",
       "1            Payment disappear - service got disconnected\n",
       "2                                       Speed and Service\n",
       "3       Comcast Imposed a New Usage Cap of 300GB that ...\n",
       "4              Comcast not working and no service to boot\n",
       "                              ...                        \n",
       "2219                                 Service Availability\n",
       "2220           Comcast Monthly Billing for Returned Modem\n",
       "2221                              complaint about comcast\n",
       "2222               Extremely unsatisfied Comcast customer\n",
       "2223                 Comcast, Ypsilanti MI Internet Speed\n",
       "Name: Customer Complaint, Length: 2224, dtype: object"
      ]
     },
     "execution_count": 27,
     "metadata": {},
     "output_type": "execute_result"
    }
   ],
   "source": [
    "comcast['Customer Complaint']"
   ]
  },
  {
   "cell_type": "code",
   "execution_count": 28,
   "metadata": {},
   "outputs": [],
   "source": [
    "Complaint = \". \".join(comcast[\"Customer Complaint\"]).lower()"
   ]
  },
  {
   "cell_type": "code",
   "execution_count": 29,
   "metadata": {},
   "outputs": [
    {
     "data": {
      "text/plain": [
       "'comcast cable internet speeds. payment disappear - service got disconnected. speed and service. comcast imposed a new usage cap of 300gb that punishes streaming.. comcast not working and no service to boot. isp charging for arbitrary data limits with overage fees. throttling service and unreasonable data caps. comcast refuses to help troubleshoot and correct my service.. comcast extended outages. comcast raising prices and not being available to ask why. billing after service was asked to be disconnected. yahoo failure to restore email search feature. comcast violating open internet rules by blocking hbo go access on sony consoles. internet speed. internet disconnects every night. internet complaint. internet availability and speed. comcast owes me $65 and claims i need to return equipment i never had. horrible internet service. failure to provide services that i am billed for.. internet out all the time but they have a monopoly. horrible cable service and customer service. speed. comcast monopoly bundling practices. comcast!. bait and switch. comcast customer service. apartment management\\'s exclusivity contract with comcast. unable to reach a comcast agent for internet and billing issues.. wifi internet not working as well. comcast data caps. comcast internet data cap. xfinity movers edge program. comcast data internet usage. comcast not refunding my credit. comcast. no service. comcast. internet , billing and servie issues. comcast blocking directv signals. pmts. slow internet speed. not getting what i am paying for with internet. comcast bandwidth every evening drops to 10% of what is promised to our business. isp dishonest about speeds. deceptive sales- change in billing amount etc.. comcast billing dispute. comcast. comcast billing and service issues. cable prices rising. service issues. hbo go on playstation 4. internet connectivity. email issues. monopoly. complaint against xfinity/comcast. comcast credit after cancellation has not been received after more than a year. comcast false promises. comcast blocking udp port 443. issues with comcast. comcast refuses to schedule a future service stoppage. comcast. overbilling. comcast - failure to provide service, refusal to void contract. spotty comcast service. without service despite willingness to pay. issues with xfinity/comcast. cable modem rent for internet access. comcast/xfinity. speed issues. at&t. fraudulent claims reported to collections agency. comcast using a data cap to take however much money they like. comcast data cap. speed of service. comcast\\'s monopolistic practices and data capping. comcast data cap \"trials\". comcast billing problem. comcast needs competition. comcast services/billing issues. incorrect bill. legality of data caps. data caps. comcast added service after i declined it. comcast misled with overage policy. cable service and telephone connect not complete. comcast data cap. comcast won\\'t cancel my service. data caps. comcast disconnecting service before due date. comcast data cap. comcast. unbelievable treatment. denial of comcast business (phone and internet) service to my dental practice. comcast\\'s terrible service - how are they still in business?. they are forcing me for my bank account information by suspending my services for no reason (i also feel like they are committing corporate theft).. comcast discontinuation of service issue. comcast customer service. comcast. comcast bandwidth data caps in atlanta, ga. comcast won\\'t quit charging me for modem rental. comcast download caps. horrible comcast customer service. data cap. bad customer service. disconnection of service. comcast data usage charges. comcast refuses service to my address. comcast will not let me discuss my bill or service with a representative. comcast billing frauds. comcast tv/internet hookup. no service for 5+ days. comcast - billing. comcast internet. comcast speed integrity. data cap. comcast atlanta data caps. comcast atlanta data caps. comcast poor customer service. overage on 300gb data plan with comcast. comcast bill. comcast data cap. unfair billing practices. comcast data caps. comcast refusing to honor internet rate. speed. not acceptable internet additional charge.. comcast internet and cable service. comcast deceptive advertising, overage charges. comcast data caps. comcast: xfinity slamming. comcast support unable to provide accurate information. comcast data usage limits. repeated erroneous modem rental charge. xfinity pricing. comcast monopoly. internet connection both upload and download speeds. internet availability. comcast \"50 mb/s\" speed and throttling. complaint against comcast. comcast. comcast (xfinity) monopolistic billing practices. internet throttling. data usage overage. double billing after change of service. bandwidth caps becoming excessive. comcast data limits. unable to cancel xfinity home security. comcast trying to setup stuff we didn\\'t order. terrible waiting times. incorrect prices for new customers. comcast is throttling my internet. internet pricing. misc. charges. comast data cap. comcast throttles internet. throttling. forced bundling of internet service with catv. comcast internet. failure to deliver service. comcast hbo go ps4 app. comcast\\'s refusal to recognize written notice of termination of service. rates. termination fee. comcast internet/cable. i am being charge double for my cable bill.. repeated comcast billing issues. unauthorized comcast username setup. services turned off in retaliation for complaints. comcast does not disclose the internet speed i\\'m paying for anywhere on my bill or online. internet speeds disclosure on bill. internet speed not disclosed. intermittent service. comcast billing practices. monopoly. consistently slow and throttled internet speeds. paying for high speed internet with comcast. consistently getting slow service.. comcast monopoly on packages is costing me more money for same service. hidden fees, dropped internet connection. comcast high speed internet monopoly. comcast cable in maryland. billing dispute & poor customer service. comcast change contract. comcast throttle. xfinity wifi access. no internet, no cable. internet service slow and intermittent. comcast account. week long issues with speed and no help from comcast. data usage cap maine. comcasts shady business practices. comcast cable. comcast pricing. comcast complaint. cable. comcast charges. comcast. internet needed!. deceptive practices. comcast fraud. complaint cr comcast problem - voip phone not working for days. comcast. double-billing. download speeds slower than dial-up but paying for 25 mbps. comcast billing error. comcast internet technical support. comcast blocking hbogo on ps4. residentail broadband data caps. comcast. monthly charges increased without any notice. comcast internet for low income families. comcast internet for low income families. comcast service and customer service representative. poor internet connection/dropped connection since installation of new modem. comcast billing. bank fee refund reques. comcast unfair charge. wrongful billing. billing problem. service refusal and lower than advertised speeds.. comcast - major complaint 1st time customer - aggravated health issues. connecting the service. over charge by lying. comcast keeps changing bill and every time gives new reasons!!. ad in craigslist was a scam for selling product not owned. comcast internet. comcast billing after discontinuation of service. complaint against comcast. comcast data cap. comcast issues. comcast charging a fee without disclosing. increased bill. incorrect charges, and would not fix. suspected throttling. constant disruption of internet service. comcast unfair billing practices. incorrect billing and service from comcast. comcast reduced my internet speed. keep getting charged rental fees for modem i already own. dealing with comcast/xfinity. over billing. billing. awful service!. comcast bad practices. billing for equipment that was not provided to me. comcast speed issues. technical support. failure to supply the proper internet service. comcast disconnected my account without reason or notice. bad service/drop calls/no support. modem rental fees. comcast - issues galore. monopolistic behavior. bait and switch pricing. hbo go comcast. comcast slow internet. slow internet speeds. comcast billing pratice. comcast overbilled me and added numerous hidden charges. unfair billing practices of comcast. hbo go blocked on amazon fire tv. comcast outage/poor service 6/1. comcast agreement. false contract repersentation. extremely low speeds, and no help. comcast throttling download speed.. broadband interuption. low internet speed. incorrect billing. comcast - diversified consultants. comcast billing for last @18 mos for services they are unable or unwilling to provide. comcast blocks hbo go on ps4. comcast data usage charges. comcast bandwidth billing issue. comcast internet speeds. comcast slow internet service. comcast slow internet. comcast internet freezes up. comcast changed my account plan after i said no about 2-3 times. lack of service from comcast. comcast. comcast. credit for service outage 6/23/15. unauthorized billing. billing overcharges. internet/phone. comcast throttling my internet. double billing from comcast. billing over charges. internet only. continuing overcharges. home security forgery/fraud. 2+ day degraded services. internet bill too high. over paying for my comcast services. fees not disclosed before service was installed. comcast service. poor customer service. billed for service never received. comcast. disrupted internet service. comcast billing / speed issues. have to bundle services to get advertised proce.. comcast policies. internet throttling. unfair billing practices. cocmast billing issues. comcast service that didn\\'t work. data limit. pricing is not competive. comcast billing practices-unfair. comcast. slow internet. internet service. xfinity false advertisement. comcast - constantly low speeds, \\'miscommunication\\' about billing errors. not responding to complaints.. comcast hbo-go application and sony products. never resolved problem with comcast. slow speed with the entire connection. comcast possibly throttling my internet. comcast sucks. issues with comcast regarding service, billing, etc. internet/tv billing. difficulty to cancel services before moving. comcast incompetence/lies/robbery. comcast is \"forcing\" bundles on me while silently raising my bill. internet slowdown. comcast price. comcast fails to fulfill request for internet service. hidden product installation fee. 2 months and comcast has not fixed problem. fcc complaint against comcast/xfinity on providing false information.. comcast internet. comcast internet. service issues. comcast xfinity 300g over charge. internet availability. comcast usage caps. comcast data usage caps. data caps and the extortion methods of comcast. no internet service. no service. billing discrepencies and service termination hurdles. billing & data usage. bait and switch, unfulfilled incentives. internet speed. comcast wont refund me for over charge. comcast internet debacle. price and performance manipulation by comcast for isp. complaint against comcast. comcast internet speed. comcast complaint. data caps. comcast unwilling to resolve data usage issue. comcast unwilling to resolve data usage issue. comcast data cap. comcast data usage meter. comcast internet data cap lies. comcast promised $60 a month no fees, charged $70 + $8 in fees. comcast cable connection from street is underwater and structure is too high. west coast service issues - comcast. comcast refuses to uhold contract for 2 years phone/internet. comcast business internet is much more expensive that home internet.. comcast internet usage cap. comcast poor service. comcast corporation data caps. comcast throttling my internet service. billing/service issues. unethical charges. comcast data cap. comcast wrongfully autodrafted a final bill that was not yet adjusted. comcast internet. comcast data cap at 300gb. internet speeds are throttled. complex situation prevents bundling discounts and drives service price up. comcast internet prices & speeds. comcast overcharging. reimbursement i\\'ve never recieved. constant internet issues. xfinity. xfinity/comcast. comcast hard inquiries. comcast jamming signal. comcast lied to me. terrible customer service and process. comcast & hbo go on ps4. run around. comcast service and customer service issues. comcast pricing scam. comcast disconnect. comcast throttling speeds and data caps. closed captioning of online videos. comcast problems. removed discount after i complained about an unauthorized charge. complaint regarding comcast. comcast internet connection cheat. wireless signal issues/frequent connection drop. comcast is ripping me off, and i can\\'t be quiet anymore. billing dispute. complaint about comcast. comcast. internet speeds not as advertised. comcast & sony playstation devices. comcast wifi issues. comcast internet. comcast. comcast is giving me poor quality customer service.. comcast no show tech. comcast internet. horrible service charges for tech/installation applied when they shouldnt have. slow internet/ billing/ poor customer service of your complaints. no service. comcast outages. comcast internet connection and speed. comcast cable & internet. comcast: no service for one month. comcast. comcast did not remove charge for over a year. comcast charging for services not rendered. price inflation due to monopoly of comcast. double charge my internet service every month. unfair billing practices. comcast billing/monopoly/service. tricked into upgrade. comcast unfair business practices. internet speeds slow. faulty service and false advertisement. comcast started charging a lease fee for equipment i own after enabling automatic bill payment. comcast/xfinity service manipulation. unsatisfactory speed with disorganized service. comcast billing and service. unfair billing practices. xfinity price and not 16mbps when paying for 50mbps. xfinity order status. comcast violating open internet rules. billing/customer service. comcast is double billing me and not processing my credit back to me. comcast internet speeds. comcast lies and deception. comcast over billing. comcast internet, cable, and phone outtages. internet connection outage. comcast throttling internet speed. comcast xfinity overage charges, no assistance. service outages (comcast). comcast billing. charges not authorized. comcast/xfinity. cocmast (internet). comcast/xfinity. xfinity/comcast tethering connection. xfinity \"comcast\" closed scheduled appt and said it was open. service issues. comcast internet outage. comcast. additional usage @$10/50gb. comcast data caps. comcast billing practices. very poor customer service. internet speed. another fraudulenct collection claim from comcast. comcast and centurylink failing wissler ranch colorado community. tried to cancel, was lied to about change in service. xfinity throttling apple tv bitrate. comcast termination fee. unresolved issues. no warning before price increase. comcast unfair billing. comcast overbilling and overcharging. comcast service complaint. charge to my bill unknowingly. billing. internet and phone pricing. worst speed, no competition, and billing does not match the service.. comcast bundled service. charged for equipment that i didn\\'t have. comcast misrepresented their service area, then charged me for attempting to use it.. comcast xfinity. comcast does not deliver service. slow internet speeds on comcast. comcast service. nonsensical raise in my internet bill. comcast service billing. comcast runaround. cruel and illegal practices - comcast. throttled speed. transfer services. comcast agent lied about service upgrade. customer service representative lied about rates and promotions. comcast service corvallis, or.. unexplained billing. comcast/xfinity internet. lack of availability. comcast bill problems. unfair billing practices. comcast data caps. comcast internet is unbelievably slow. comcast refuse to refund rental fee made in error. comcast. issues with cable and internet packaging unfair prices. comcast internet speed and reliability. cable internet. monopoly and deceit: the 300gb data cap. comcast xfinity home security service. comcast bait and switch. comcast data cap in atlanta, ga. cap on data usage. data cap. data usage. extorted into signing up for multi-year contract. comcast selectively enforcing data caps. comcast usage caps. comcast internet service bad quality. ping spikes and packet loss. comcast complaint. comcast phone & internet billing issue. comcast xfinity charging rental fee for personally owned modem. horrific billing. comcast / xfinity overcharging for internet / internet cap. comcast money grab using data caps. comcast internet service provider. fraudulent charges by comcast. comcast data cap compliant. billings charges & credits. comcast data cap limits, lack of competition, and anti-competition business and billing practices. deceptive billing practices. billing complaint. comcast unfair billing practices. comcast \"property access\" or \"right of entry\". internet speed. robber barron billing practices. fradualent claims. xfinity comcast hbogo on ps4. comcast failure to respond to user communication. xfinitty tv and exfinity alarm. internet speed and price of bundle. re: comcast internet illegal charges. possible internet speed throttling by my comcast internet provider. slow speed. inaccurate billing. comcast internet pricing. billing/contract issue related to data cap. comcast data billing. data caps. comcast. comcast. comcast. prolonged internet outage, tardy response. comcast internet. improper billing from comcast. deceptive sales tactics. misrepresentation of terms. consumer fraud - sell at one price, then advise price is higher. misleading communication.. comcast chat agent help. fees. comcast cable company florida. misleading advertising. comcast. unfair billing practices regarding comcast. unfair comcast bill. comcast services. comcast internet speeds extremely slow. comcast internet service - billing problem. comcast speed and billing. comcast refusal to cancel service under false contract claims. terrible service and ripped off by comcast. extremely slow internet speeds; horrible support. promissed a package and then denied. hbo go on playstation 3. comcast secretly raising my bill for services i never agreed to. again.. lied about $70 technician fee. internet too slow. internet speed drops & signal on borderline. comcast service for exterior line replacement billed to customer. comcast complaint. i am being unfairly billed. internet prices in u.s.a. comcast throttling my speeds for streaming video. consistently slow internet speeds. internet speeds nowhere close to what i pay for. billed without service. slow internet. billed for modem rental for several years, comcast refuses to refund under \"caveat emptor\". misleading information given. contract cancellation fees and unauthorized changes. no internet service, no on demand service. internet and on demand service. unfair charges and substandard service. comcast automatic payments. outage and unfair practices. fraudolent pratice. comcast service. comcast billing practices. comcast. comcast mistreatment. slow connection speed for wifi. comcast speeds low, and often disconnections. comcast service. denial of refund for overpayment. comcast data cap. comcast unfair billing. comcast. slow service. comcast internet. comcast. internet issue. business class service. dns web hosting. fraudulent account. comcast internet service complaint. billing issues. comcast poor service or throttling. comcast refuses to fix billing if a virus causes data usage over cap on a system protected by their av. no broadband service provided. poor service from comcast. 300 gb cap. comcast data caps. slow speeds, poor service,.. billing and service. comcast of indiana. comcast trial of putting cap (300 gb / month) on internet usage.. comcast data caps. comcast data cap & code injection. comcast billing/service. comcast-flat fee contract-misrepresentation. comcast internet problems. comcast internet billing. comcast xfinity triple play. billing issues with comcast. comcast internet. comcast outage - bay area. comcast of east windsor nj complaint. terrible comcast service. complaint against comcast for incredibly bad service. data caps. internet service speed. comcast xfinity price gouging seniors. misrepresentation of billing. constant non response, or passing to other operator. supervisers inability to resolve of help. numerous lies told.. comcast chronic lies. comcast internet only service. comcast broke 36 month contract by increasing bill.... unfair billing practices. installation charges. comcast over charging bundle pkg. comcast/xfinity data allowance. pricing. 60 days to close my account. fraudulent billing by comcast.. comcast failed to switch our systems to new location and shut down the current location. comcast slamming issue. please stop broadband bandwidth caps. comcast internet in emeryville throttles speed. pricing concerns. 95 palmer road, enfield nh internet pricing. overpriced, low quality service. bundled service. comcast customer service and billing complaint. comcast throttling. lack of service, service call complaint. lack of service, service call complaint. comcast fradulent marketing and billing for internet. unreliable service for the past three years. comcast has doubled my internet fee without warning. frequent disconnects. billing issue. comcast unfair billing practices. comcast deceptive selling billing lack of service - second and expanded complaint. comcast complaint about internet speed. comcast billing issues. comcast (chicago il). no internet for last 6 days and comcast is not doing anything. comcast price gouging. unable to renew ip address. comcast. comcast. comcast issues. comcast will not service our home. comcast/xfinity. comcast billing and service issues. poor service. data cap. comcast. internet billing. comcast fluctuating prices. recurring comcast service issues and long waits for non-service. multiple billing an dcompetative issues.. comcast fraudualent billing. comcast service. re: internet too expensive. charged for services not provided. paying for wifi and its not working. isp data cap. internet connection and speed issues. comcast internet. comcast will not provide online content without cable box. internet cap. lack of reasonable infrastructure close to town. comcast throttling speeds. comcast. comcast throttling my internet. un able to access my email address after relocae to a new address. internet speed issues with comcast and picture freezing issues when watching tv. systemic failures with comcast. comcast/xfinity. comcast internet and lack of communication and response. billing issues. comcast knowingly over billed. horrible/unacceptable service of comcast. comcast overcharge. deceptive trade. comcast demanding payment after cancellation. no internet. xfinity promise to pay me $300 to join. comcast issues. internet provider data thresholds. comcast cable. comcast data cap. comcast data caps. comcast. comcast data cap. routine outages / speeds never as promised. comcast business keeps moving my same-day trouble appointment to the next day. comcast cable company. comcast billing. lack of hbo go availability on sony devices with xfinity subscription. overcharged $30 per month for 10 months straight. raising my rate. unfair comcast billing. comcast fradulently gets contract signed by my wife. comcast charging me unrelated charges. ridiculous charges. complaint against comcast. arbitrary price increase. comcast billing complaint. internet speed deteriation. internet speed on wireless connection. internet. intermittent internet. deceptive trade. improper billing and non resolution of issues. lost emails/billing. comcast/xfinity poor service, fraudulent billing and collection. monthly data caps. comcast data charges. inability to get access to internet through comcast or at&t. paying for an upgrade that never took place. bill issues, internet and disability comcast prices. not receiving advertised speed. xfinity internet speed. comcast billing. nightly service interruption. netflix is slow. comcast wont service my address. cannot access my email or service at all. xfinity/comcast service. unclear policies. 300gb/month data cap. comcast/xfinity- paying for high speed service. comcast/xfinity- paying for high speed service. overage charges. comcast internet and cable deals. comcast bundle billing. comcast internet speed/quality of service and price. internet bundled with tv. consistent speed/connectivity with internet. comcast is ignoring me now. they are making no attempt to correct problems. data caps. n/a (b) (6). unfair billing practices. comcast bundle price. wrongful billing - repeated since december 2013. comcast has charged me invalid fee\\'s and wont re-imburse me for them.. comcast/xfinity service. comcast bundled. somewhat threatening phone calls. data cap overages. internet virus pop up scam claiming to be with comcast. intermittent internet connection. raised my bill and told me to lower it back to what it was i would have to make a 24 month agreement. comcast. comcast internet. comcast. issues with comcast customer service due to loss of internet. speeds being throttled.. internet essentials for low income families. hearsts magazine contest scam. comcast. comcast. comcast internet service. comcast bundles. comcast fraud?. comcast surprise increase in charges. internet problems. comcast rrefund owing to us since 3/12/2015. still overcharged. charged for speeds they can not provide. comcast deception. comcast - slow down imternet speed. data caps. comcast billing complaint. frequent interruptions. comcast overbilling. throttling by comcast/xfinity. no internet last 4 days even after more than 10 calls and spending 10 hours with comcast on phone. comcast slamming/overcharge/. speeds received are not as advertised. comcast throttling speeds. comcast billing. fraudulent billing by comcast. comcast throttling. throttle of my internet access speeds by comcast. comcast overcharge for internet service for over one year. not receiving refund of service from comcast, for over 90 days. unfair and deceptive trade practices. comcast bill internet usage. comcast data cap. over billing issues. comcast billing practices. high payment. comcast support. comcast internet/cable contacted them over the phone and chat. comcast usage data plan. comcast data usage cap/limit. cable. charges. comcast data caps. comcast data usage cap. comcast keeps charging for me for over the limit internet - when says we have unlimited. data overage charges. no internet. continues services interruptions causing losses to my business. comcast blocking services. fake charges. billing issues/service issues. comcast charging fee without warning. comcast service levels. one sided contracts. comcast fraudulent charges. comcast data useage caps and charges. comcast cable unauthorized charges. comcast cable unauthorized charges. comcast fraudulent pricing and practices. comcast and competition. comcast/earthlink. speed throttling. charged double/speeds throttled. comcast rate hike. internet speed. comcast xfinity. internet cable alarm. phone internet cable alarm. comcast service overcharge for internet and phone. billing and internet connection. comcast internet price high. comcast. comcast refuses to service address. overcharge/ promo end. hang-ups, lies, bill more than 2x higher & more. lies and deception. comcast refuses to refund deposit according to initial terms. comcast data caps. data cap. comcast contract problem. intermittent service. comcast-overcharges. comcast. monthly bill. deceptive business practice with \"service protection plan\". billing error. unreliable service. billing and threats. horrible internet speed not what i pay for. comcast service failure. incomplete billing cycle. internet system reliability. faulty bill for more profit. comcast - overcharging/unnecessary charges. throttling by comcast. billed for internet service that was never installed. billing and new account issues. comcast high prices and throttling speeds. comcast predatory pricing forcing purchase of cable.. comcast billing. speed/pricing. comcast internet slow. the monthly bill for my internet service has become too expensive.. throttling. comcast internet service complaint. poor quality service, multiple disconnections prior to disconnect date and after i have made payments still got disconnected multiple times. comcast. being lied to, and mislead by comcast / xfinity. internet connection not available. comcast service issues. comcast bundles useless services to charge more.. comcast failed to deliver service that was advertised. comcast wont honor discount, bill higher than what was agreed. poor customer service, terrible internet speeds, prices are way too high.. comcast bundle promotion bait and switch. comcast internet service large increases & improper billings on promtions for one yr. comcast refused to install internet. text on facebook. comcast (customer.xfinity.com). low internet speed complaint against comcast xfinity houston, texas. billing and false advertising. comcast charging service fee to customer--customer didn\\'t cause issue. comcast. unable to get in touch with anyone that has the power to cancel my services. comcast\\'s data caps are anti-consumer.. hbogo on ps4. throttled speed during peak hours. customer service lied about extra fees. xfinity data cap. comcast services. charged for activation kit that was never sent, needed or used. adding services not requested and increasing fees without notification.. renewed contract without my permission or consent. ongoing issue with bill, supervisors, issue not fixed. comcast. comcast failure to provide adequate service. assessing unjustified late fees. unable to fully use services and high bills. comcast. comcast in indianapolis scam. comcast billing. comcast customer care ( racism). comcast customer care ( racism). internet and service. hbo shouldn\\'t have a load time. comcast customer service agents lie about offers to switch. comcast technical/customer service and billing problems. comcast/xfinity internet gouging. pricing problems even after promises. comcast business services-email accounts. keep getting charged for modem rental and i bought my own 7 months ago!. comcast billing. internet service provider comcast harassing me to return equipment i already returned. comcast service. throttling. continued calls from comcast. installation. comcast/xfinity. internet being throttled by comcast. service connection issues, increased billing, bad service, unfair trade practices. comcast - virtually no service since october 2014. recurring billing discrepancy regarding modem. comcast data usage robbing us. false advertising and overcharging. xfinity internet. overcharged/excessive bill. internet fraud. comcast internet provider-jacksonville, florida. internet service changes between comcast business & comcast residential. cannot access onlinebilling account to pay bill. account info changed without authorization. continued issue. internet only deal. customer service from comcast. comcast service billing. comcast speed issue after evening. comcast has not applied credit of close to $400. comcast complaint. monopoly & fraudulent broadband speedtest results. comcast refuses to serve my address. customer service nightmare. commercial property damage. non working service with comcast. issue with internet service. comcast cable tv. complaints about comcast. comcast. comcast becoming a hassle. comcast. fraud. comcast customer service. comcast internet services and customer service is horrible. loss of internet connection. internat essential. lack of service and misleading promises. comcast service. comcast internet complaint. comcast services not working. comcast charging ridiculous prices. comcast internet service. comcast internet performance. comcast internet claiming 25 mbps internet but i get only 3 mbps and customer service representative hung up call repeateadly. long term billing issue with rude customer service caused depression and trauma. comcast incorrect and confusing billing. data caps & monthly prices. installation request - new subdivision - jesup, ga. comcast grievance. comcast -exfinity customer service errors, lies and wasted time. comcast -exfinity customer service errors, lies and wasted time. comcast very bad /rude customer service. billing dispute. comcast cable. lied to!!! now i\\'m suffering?!?! and at a loss!!!. cyber bulling. comcast service. comcast business. service complaint. comcast e-mail issues. comcast slamming with fees. fraudulent charges. comcast billing. monopoly. comcast billing has caused issues. business practices and customer treatment. xfinity not providing service in my portion of the neighborhood. comcast customer service and billing service. not receiving the speeds promised and the charges are too high.. internet bill goes up with no cable \"bundle\". significant quality loss. customer services. unfair billing practices. service issues. xfinity throttling my connection. service down for 25 days but was never credit it for it. comcast home business service - fc consulting, llc. being charged for modem that was returned over 1 year ago. comcast data cap. comcast\\'s pricing and bundling model is a monopolized extortion in my area. comcast forcing me to pay same rate for lower speed. speeds lower than advertised. comcast data cap of 300gb. data cap. comcast online access. availabilty. wireless internet. no access to hbo go on playstation 4 through comcast. very frequent service outages with comcast internet. ongoing serious and cotinued internet service outages. internet problems, billing and service. comcast blocking hbo go on sony playstation devices. nd intrenal miscommunication. continued slowness for more than 2 weeks. continued slowness for almost 3 weeks. continued slowness for almost 3 weeks. comcast\\'s constant manipulation of bills. false advertising / bait & switch. false advertisement for paid service. comcast internet. comcast internet and tv false information and false price. comcast data cap / interference with free market. inhome service visit charged when the problem was outside of my apartment. comcast internet/cable tv package. comcast internet overage charges. unauthorized charge on comcast bill. data caps by comcast. comcast high speed internet. fradulant charges against credit report. comcast data caps. comcast data caps. comcast data caps. comcast home data usage cap. unable to obtain residential service. bandwidth caps.. local monopoly. comcast data plan. comcast isp oio violation. comcast data cap. comcast intrnet. refusal to prorate for services not recieved. comcast data caps. data soft cap and charges from comcast. comcast speed and cap misinformation. comcast excessive overages. comcast data caps for home internet service. comcast. comcast monthly data usage cap. comcast data limits and overage charges. comcast data use caps. data caps. service out/no customer service provided. comcast data usage. forced data capping. comcast costs. unfair billing practices. request to transfer e-mail account from comcast.. comcast data cap. complaint against comcast/infinity. complaint about service provided by comcast/xfinity. problems with comcast. service provided is not what was promised. email account removed. internet. billing fraud by comcast. comcast. internet availability for students. billing. comcast internet. comcast internet billing. inability to call 911 service during a power outage. comcast monopoly hurting my business. comcast-billing. internet speed not as advertised. underhanded sales techniques. comcast internet. internet/phone billing services. fraudulent billing practice. not receiving network speed as advertised. internet speed/service. comcast not honoring agreement. falsified unreturned equipment fees. slow comcast internet. comcast not delivering advertised speed. comcast support. several issues. inappropriate billing. comcast internet offer. comcast las cruces new mexico. unfair billing practices. comcast stockholder response. xfinity cable & internet repackage scam. constant loss of account. xfinity slow internet. comcast poor customer service and degraded service. data cap. comcast internet. billing discrepancies and misrepresentation of package prices. comcast cancellation. comcast data limit. comcast data cap. lack of service and speed. comcast in violation of merger terms. online adertised price was not honored over phone. comcast inflated and \"undetermined\", ever-increasing rates. locals. comcast fees and internet services. blocking the viewing of websites. bait and switch. unfair pricing. unresponsive calls to customer service regarding wifi hotspots. comcast billing. comcast promised credits by superviser. bait & switch. data caps. data caps. comcast data cap. cheating customer. comcast bundled services. xfinity unable to correct issue of losing connection. comcast. monopolistic billing practices. 300 gb monthly allowance. comcast data cap. internet down. comcast data threshold. customer service. customer service & price. loss of electronics/poor customer service/faulty grounding. ongoing comcast internet outages.. unfair internet prices. comcast internet dropping out. comcast problems. overcharged for underperforming services. i am being throttled by comcast. comcast unfair billing practices. comcast billing shutting off service. comcastcomcas. comcast cable. fraudulent billing practices by comcast. services interrupted. internet contract issue. comcast billing. xfinity: bogus modem charges. n/a (b) (6). comcast. poor customer service and internet availability. comcast service. internet service and phone service. xfinity. internet speeds and billing errors. comcast billing issue. internet throttling & unfair billing practices. internet throttling & unfair billing practices. comcast false advertising. speeds slower than advertised. increase in price of internet. comcast. comcast internet. slowness of internet. video throttling. comcast/xfinity. ridiculous and inconsistent billing. comcast over inflating data meter usage. comcast billing fraud. comcast - incorrect billing issues - has happened on multiple occasions with my account. repeated issues with comcast billing and customer service. comcast data cap. unfair pricing practices. comcast customer service. comcast business internet -- not providing service to new location & will not terminate contract despite multiple attempts. data caps discourage commerce. comcast internet is atrocious. comcast. internet speed. comcast cancellation issue. internet availability. comcast is giving me the ring around and charged me $130. comcast over charges. comcast internet billing problems/disrespectful customer service agents. bill flucuation. comcast internet-price keeps changing. comcast continuous modem rental charges. comcast throttling internet. customer service and billing complaint. 300gb/month data cap \\'trial\\' for several years now. comcast data usage cap. comcast data caps. comcast and their \"data limit\". comcast refuses to honor a plan that one of their sales reps offered. comcast. data cap imposed without notice. comcast charging over $600 for data. comcast/xfinity. comcast business internet. comcast 300gb data cap. comcast charges. overcharged internet billing. comcast 300gb data cap. comcast - billing practices. comcast billing and service issues. intermittent poor service. inconsistent and poor internet performance. internet performance (latency/bandwidth) substantially below what i\\'m paying for for weeks. comcast endless problems. internet connection delibrately slowed down. comcast - customer service/technical service inferiority. comcast cable outage. service not disconnected as requested. overcharged and overpaid as a result.. comcast service. infinity / comcast. datacaps. comcast internet speeds. comcast - internet service complaint. no comcast-- uverse. horrible service. comcast- internet. internet. wasted time and money!. billing issues. forced to pay for home security services that are inactive bundled with my internet services. comcast data caps. comcast. comcast data cap limit. invalid sercice. invalid sercice. comcast data caps. stop the data caps of comcast. lack of communication and poor customer service. comcast data cap. comcast overpricing. comcast rates. comcast data cap. comcast refuse to honor agreed upon price / promotion. comcast slowing down. unfair billing practices. poor customer service with comcast. comcast has turned my business account to third-party collections when i legitimately canceled my contract per the terms. comcast still billing, after account is closed and paid. comcast deceving upgrade without request. comcast service issues.. comcast internet, telephone, tv service. not receiving internet and harrassing phone calls. internet service. comcast complaint. comcast is terrible. comcast internet poor service. charged for cable modem rental that i have owned for 8 years. monthly charge for a modem. comcast service. comcast service. comcast. exaggerated bill and lack of responsibilities in keep appointments! disrespect for consumers. exaggerated bill and lack of responsibilities in keep appointments! disrespect for consumers. failure to connect service. comcast will not cancel my account. problems with comcast xfinity internet service. paying for 50 mbps from comcast, only receiving 0.37 mbps. comcast internet billing. comcast internet being slow. comcast new signup billing bait-and-switch. billing. lack of internet speed. comcast poor customer services and commitment. new fcc internet rules slowing down system. unfair pricing. poor service from comcast xfinity. internet and cable billing. comcast. comcast charging me for items i do not want/asked for. internet throttling. comcast - new service (ridiculously inept + not close to the speed told) added and incorrect charges on the first bill - hoping i would not notice. second complaint \"comcast not honoring marketing materials\". comcast committing \"bait and switch fraud\". worst customer service with no resolution. comcast. comcast billing issues. paying for high speed internet and receiving low speeds. unwilling to provide a refund for charging rent on a modem. internet connectivity issues. comcast has raised my bill twice without warning. comcast charges me for 25m connection, get 5 down/11 up. comcast business not honoring signed contract. transfer of services. comcast nightmare. charged erroneous fee on bill. i need help pleas. discriminatory tiered pricing and traffic limitations by comcast.. comcast thieves. low internet quality. false advertisement. comcast targeted blocking of content. slow internet / monopoly area. data cap. data cap 300gb. comcast usage limit. comcast billing for late payment/disconnect due to their error. internet service down. spam. failure to resolve internet outages. comcast internet service that i was never able to use. comcast account issues/customer service complaints. comcast internet. ads for website. comcast is awful, lies, and is corrupt. internet freezing. unannouced service outage not caused by weather. comcast data cap is bullcrap. receiving bill for account that was supposed to be cancelled. comcast. comcast refusing to run lines. comcast unreliable speed/ service. internet service. internet service. internet service. comcast slow speeds and lying about prices. billing issues. unfair comcast billing practices. comcast charging me monthly fees for equipment rental when i own the equipment. comcast refuses to credit erroneous overcharges due to deceptive \"promotional\" rates. comcast data cap. comcast installation date of june 22, 2015. comcast refusing to provide continued service promised/advertised in writing. required $100 deposit to open an account. comcast. cap on comcast data. comcast internet down since 4/25 with no resolve. false charges & refusal to credit. commercials burning data. comcast. comcast internet complaint. over charging for internet. comcast data policy and lies. comcast/xfinity customer service and billing. comcast data cap. throttling bandwidth.. comcast billing. comcast service. comcast data overage charges. dishonest billing practices. dishonest billing practices and lying. comcast. comcast lowering internet speeds on constant basis. comcast lies to the customer just to get them off the phone. internet. no package/pricing information from comcast for san francisco. fraudulent charges and poor or no service. speed for internet nowhere close to claims. comcast took my account info. over billing, no reason code for excess billing, fraud - imo. unreliable internet service. comcast caught in 3 lies. no bill. bait and switch product offerings for internet blast service. comcast charges modem rental but modem was returned 3 years ago. comcast internet. comcast bundle availability complaint. comcast connection issues. unauthorized change in charges. availabilty. data allowance. comcast billing issues. comcast data usage - deceptive practice. comcast\\'s data cap. comcast is limiting my access to data by using \"data caps\". comcast attempting to circumvent net neutrality policies. comcast data cap. comcast downgraded service with no notification. comcast internet. comcast data caps in currently uncompetitive nashville market. comcast- not responsive to multiple requests for service. comcast is stealing from me. comcast horrible service. intermittent drops of service. overage charges. comcast refund. comcast speeds not as advertised. comcast data cap. comcast internet. lost internet service. low wifi. issue with internet speed. comcast internet complaint. internet problems. comcast service problems for months; charging without fixng the issue. horrible customer service; could not help me - lied to by supervisor. comcast false advertising. comcast business internet. comcast lied about pricing and installation. comcast- unfair pricing tactics. overcharges. comcast is a monopoly. comcast is cheating me. overcharged. comcast business phone/internet contract disagreement. unable to cancel comcast service. misleading information regarding contract leads to $200 unresolved early term fee. comcast issues. internet down. comcast failure of service. comcast throttling my internet connection. billing/service issues. 10 days no service - 12 appointments comcast hasn\\'t shown up - comcast has not fixed home infinity x1 - in 10 days- cannot make 911 calls. internet outages. high speed internet awful. rude, nasty, customer service behavior, and a three year failure to deliver the business internet services paid for. comcast failing still. the worst customer service team and negative outlook on customers!!!. comcast. comcast/xfinity. internet problems. improper billing. internet being slowed.. spotty service business class internet. bundled cable and internet. comcast dishonest marketing scheme. sold one service, received another. internet speed. home shopping network emails. comcast. internet speed. comcast charging too much and internet speed lower than ordered. ask comcast to fix internet connection of my home. comcast scam. comcast service and billing issue. speed throttling. bill to damn high. comcast data usage cap. comcast - internet data cap. comcast service and billing issues. illegal charges from comcast. comcast. inconsistent, low speeds that are overpriced. bad customer service. unable to cancel poor internet service. microsoft is limiting service. unethical behavior: comcast requesting credit check or deposit. unfair bundles. comcast. years of packet loss and downtime. comcast run around. comcast cablevision florida. comcast. poor quality service and unauthorized charges. comcast/xfinity cancellation fee. comcast billing and speed.. data cap overages. comcast data caps are killing the internet. lied to by comcast. data cap in olive branch ms with comcast. data cap. comcast internet data cap segregation. inconsistent internet service. comcast - fraudulent billing practices, unwilling to resolve situation. billing and slowing of internet. internet and tv problems.. day 3 of internet going down and disconnect support calls. internet service billing. forcing customer to pay an incorrect bill to get it fixed. comcast billing/pricing practices. comcast terrible service #2. bait and switch services for monetary gain. comcast xfinity internet performance. outrageous internet bill adjustments from comcast. comcast cable/phone/internet complaint. comcast data usage - additional fee for internet usage but not tv. billing complaint. comcast. abysmal customer service, do not approve merger with time warner. comcast business internet service down for 6 days. billing. problems with comcast. internet billing. comcast billing. comcast. comcast billing. data usage limit. data cap limitations. comcast service rep missed appointment. i missed a very important family gathering because i was waiting on the worker to show.. unfair billing. throttle internet. comcast phone, internet and tv. erroneous charges on comcast bill. deceptive and false contract on business comcast for service call. poor service; inaccurate billing. my comcast nightmare. comcast internet bait and switch. no service, no assistance. comcast is a terrible service. comcast high-speed internet does not work. comcast billing & customer service. failure to cancel service. unable to return equipment. unable to return equipment. slow internet speeds. comcast keeps hiking my bill for no reason !!. questionable internet slowdown. comcast. advertised internet price not honored. data cap problems. comcast internet overage charges. surprise data caps from comcast. price increase while on a fixed price plan. internet price went up, offered lower price deal with cable tv.... comcast. comcast metro fiber. comcast. terrible experience with comcast. promotion ended in one month. metered bandwidth with no data meter. comcast data cap. speed. comcast (xfinity); larger withdrawal on automatic payment than billed. inability to add service. no internet service. comcast customer service; theft; inconsistency. comcast. terrible comcast experience - no end in sight. comcast/xfinity customer service. comcast is blocking hbo go in sony platforms. bundle. comcast blocking hbo go from playstation 3 and 4. cancelled comcast internet - service and billing was never cancelled. terrible service. internet connectivity and speed. bad internet speeds. comcast. comcast billing issues. comcast refuses to recognize our same sex marriage. comcast wifi service. terrible internet quality. comcast billing and services. unfair billing at comcast. comcast complaint. internet service provider billing increase. was liked to about the speed and the price that was offered to me.. comcast. stop the cap. comcast quoted one price then billed another. poor internet quality. comcast terrible experience with no resolution. comcast terrible experience with no resolution. comcast throttling connection speeds. comcast. comcast fraudulent billing & charges. unfair pricing. comcast\\'s unfair billing and pricing practices. slowed internet speeds. comcast -- throttling connection. no internet, phone or cable service. comcast bundling of internet and tv services and deceptive sales practices. comcast price inflation. comcast. comcast. slow internet speeds. bill payment. comcast service. comcast is not providing service for bad internet. billing/service issues. comcast billing increase. charging for service with out fixing the problem. i do not have internet and work from home. terrible customer service from comcast. internet not working. expensive service, capped. comcast email service. comcast deceptive billing practices. broadband internet service. comcast blocks hbogo from sony ps4 and ps3 devices. communication problem. comcast - unfair billing policies. bundle bull s.... unwarranted charges by comcast for internet. outage of internet service 5/19/2015, and attitude of cust svc rep. no internet service. comcast mislead me and cost my business. comcast. comcast billing. comcast misses 4 appointments. internet and phone service. comcast billing (primary) service (secondary). comcast\\'s deceptive billing. comcast internet. comcast internet data cap. comcast blocking hbo content for streaming.. billing issue. comcast has a monopoly on our internet. bait and switch again. comcast deceptive business class billing. billing. internet/cable service. comcast theft, lying, horrible service and deception. invalid sercvice charge. comcast billing complaint. comcast/xfinity blast internet. comcast. comcast bandwidth availability. data limit with comcast. excessive billing. unable to get comcast to provide me with broadband. loss connection internet many time in a day.. no way to see when promotions end. comcast not connecting me to cancel service and raising prices unfairly. comcast - i\\'ve been paying for unnecessary speeds when they knew and i did not. comcast. internet bill increase. comcast bait and switch. comcast. comcast shut-off notice -internet/tv. cable splitter without consent from customer( comcast). e-mail. comcast complaint. service, billing. comcast overcharges for internet charges. comcast. comcast data caps. comcast data usage caps. data caps and monthly fees. comcast monopoly in calvert county, maryland. comcast speed. comcast internet billing. comcast corporation. comcast. comcast/xfinity customer service. intermittent expensive connection. slower internet speeds than what i was promised for my pay.. internet connectivity loss, over 1000ms latency, under 1mbps speeds. comcast throttling. comcast data caps are an end-run around net neutrality. comcast internet disconnection. non working service. internet pricing /competition. comcast conplaints. comcast throttling playstation.and blocking hbo go. comcast/ xfinity unethical business practice. comcast blocking hbo go on playstation systems. comcast is a downright awful service provider.. comcast screwed me. comcast speed not matching, blocked phone number. comcast. tinternet service provider complaint. high speed internet. complaint about comcast\\'s hidden fees and unauthorized charges. issues with service and payments. comcast billing dispute - wireless service. comcast service inadequacies. internet speed. internet/tv bundle service. comcast set up. unacceptable business internet service from comcast. poor speed and reliability. possible speed throttling: comcast xfinity richmond, va. comcast speed throttling and more. comcast ending promotion and contract early. directing customer to resolve disputes in person at their office.. shady internet billing practices from comcast. comcast internet. about comcast. about comcast. comcast data cap. internet service is down for three weeks now.. hbo go on ps3. unfair charges. data cap on internet downloads?. comcast speed. comcast has been over charging us.. billing issues. comcast internet service. comcast billing and service issues. internet and customer service problem with comcast. lack of consistent service. interne speed. comcast. comcast ordered services that we never agreed to. billing dispute. comcast.net. comcast taking almost 9 days to solve my internet issue. failure to provide imstallation .... rockville maryland 20852. internet slow. predatory billing by comcast. comcast xfinity barely ever works and speed sucks. email transfer/ problems. cramming charges on my phone/internet bill. throttled internet speeds. comcast billing problem. comcast over charges with no notification. internet availability. comcast internet usage caps. comcast service and billing issues. internet outages. comcast internet - horrible customer service. comcast\\'s customer service is awful. manipulative billing issue. comcast advertised wifi internet speed not provided false advertisment. comcast\\'s internet is slower than what i pay for. bad practices. over billing comcast. refusal to rectify. comcast. cable availability. data usage with comcast. billing dispute. re complain against comcast email and telephone for home service. false service. misinformed over and over again. comcast/xfinity. comcast blocking hbogo on playstation 4 consoles. comcast internet online streaming. false information given just to get me set up service. comcast speed throttling internet. possible throttle. throttling and disconnections. internet offer rescinded. internet throttling. comcast. comcast are crooks. comcast price increase not in line with advertisement. comcast internet service. intermittant phone and internet. comcast etf charge. being charged for a technician fee. comcast internet service. availabilty. internet. unauthorized 2-year contract with comcast. unwanted email with no opt out options. waive the reoccuring charges. difficulty with internet speeds. comcast move. monopolistic billing. uncompetitive pricing of comcast internet services. comcast forced me into a contract. comcast. repeated installation issue with comcast internet service. ecobill discount. horrible customer service from comcast. comcast internet. comcast. comcast/xfinity: poor internet connection speed and poor customer service. i pay for 25mbps internet but get less than 3mbps. comcast - billing for service that they cannot provide. comcast illegally introduces service fees without notice or customer consent. comcast changed my package and wants me to pay more. comcast throttling or otherwise under-delivering internet service.. comcast refuses to lower my bill to prevoius agreement. billing and deceitful practices by comcast. unfair billing practices engaged by comcast/xfinity. comcast overcharging, despite regular calls and agreed upon price. unclear quoted speeds and prices. comcast billing practices. internet issues with comcast. internet speed. awful internet. being charged incorrect price. false billing. postal mail ticket - #0057. comcast xfinity charges consumer for troubleshooting/fixing its own problems. recent hacking of email account. comcast billing. internet service termination. unnecessary charge by comcast for technician visit. racist customer service from manager sonia and employee adriana comcast location \"999 edgewater blvd, foster city, ca 94404\". fraudulent use of credit card and credit card information. reporting comcast\\'s various problems. comcast billing complaint. postal mail ticket #2334. double billing. refund issues. price increase. comcast unfair product bundling. comcast not refunding deposit for cancelled internet. comcast artificially inflating prices of internet only services. extremely slow internet and no aid from comcast. throttling/drastic reduction of speeds. comcast fraud. comcast forces rep visit then goes back on their promise. comcast denies providing offered service. cable internet unavailable. unfair pricing and raising of pricing and charging without permission. concern about comcast internet modem billing practices. unfair fees?. slow internet speed. comcast changes bill prices without my consent. false claims of internet speed tier. poor interent connection-equipment failure, slow speed. comcast false & misleading sale practice. misleading sales practice and advertising. comcast sold me a \"package\" knowing it wouldn\\'t work for me, and proceeded to charge me more and attempt to tack on fees for their mistake. comcast bill way too high for such slow speeds. comcast blocking hbo go access on playstation 4. comcast xfinity data cap in atlanta, ga. comcast data caps. comcast ignores my requests to cancel a service and instead added product to my bill and increased the monthly cost.. being charged for high speed internet and services are not rendered. internet unreliable. price of internet service. closed account. comcast inflated internet pricing. expensive internet service for average speed. comcast pricing practices. pricing and lies. charge for service they won\\'t deliver. comcast throttles santa cruz ca to 30mbits, claims we get 50mbits. comcast misrepresenting speeds in santa cruz, ca. comcast wrong advertised speeds. misrepresented internet speed. being charged for internet speeds that equipment can not deliver. huge number of lies from comcast. comcast internet and tv. poor internet reception. overcharging and shitty service. comcast bait and switch. comcast issues. throttled connection at peak time. comcast. price manipulation. charges for internet service are bogus. extremely slow comcast internet connection...have tried to have fixed but no one comes. data overages. internet service disconnected accidentally by comcast personnel. poor service.. intenet advertised rate versus customer service phone quote with comcast xfinity. comcast. customer service & billing. service issues. billing & customer service issues. outrageous billing costs and data caps. falsifying plan rates and charges. comcast data cap. bait and switch service. unable to change my service. comcast bill and service disclosure. comcast harassment. complaint regarding billing practices. complaint against comcast for provisioning of internet service ar residential address. install gone bad. comcast\\'s unfair pricing. needed tech suport. speed misrepresentation. fraudulent advertising. deceptive sales practices. comcast trespassing. internet issues and customer service issues. complaints against comcat. charge for equipment from comcast i was not made aware when i ordered it. xfinity is charging me more money for my account than what it should be. comcast. failure of service from comcast. failure of service from comcast. comcast.. internet speeds less than what we are paying for after canceling cable tv service. comcast continues to bill me though i canceled months ago. billing & internet service issues with comcast in seattle wa. comcast repeatedly failing to install internet service. slow internet speed. comcast\\'s egregious billing techniques. comcast\\'s unfair billing practices. slow internet. slow routing, dropped packets. comcast re-escalation of case # esl01877347 - orr. comcast no show\\'s. fraudulent billing. internet connectivity. data usage meter. comcast data usage meter. comcast/xfinity internet data cap. threat of shutting off service of phone,internet and tv. comcast data usage plan limit. bad service/ please help. improper modems. comcast blocking hbo go on playstation. comcast run around. multiple unauthorized and unwarranted credit checks. comcast cable billing fraud. comcast billing past disconnection time. comcast will not allow me to cancel my internet service.. dsl. contract. comcast over charging. access issues have returned. comcast internet service. email sdervice. complaint against comcast. internet speed. comcast internet complaint. comcast service agreement. comcast service. comcast 300gb cap. internet essentials. cap complaints. comcast data caps. continue to be scared by comcast. price plans. complaint against comcast corporation. pricing discrimination/ monopolistic behavior in an oligopolistic market. internet much slower than advertised. cheating in bundle service pricing. deceptive business practices by comcast. comcast. comcast monopoly and abuse. comcast billing. billing. comcast billing and account issues. comcast rate. comcast service and customer service. comcast data cap. comcast internet service. fcc.gov website for complaints. comcast billing complaint. denial of service. internet help @ , south lyon, mi 48178. internet help @ , south lyon, mi 48178. very low wireless speed not working well. internet service from comcast. comcast. data usage cap. charged for data not actually used. charged for data not actually used. data overage charges. poor internet. speed. billing issues. fraudulent billing, erroneous billing, overbilling. xfinity customer service. internet price. comcast throttling my high-speed internet. slow internet / over charged billing. no internet available since a comcast techinitian did an intervention to change plans. comcast xfinity monopoly abuses. comcast billing support and practices. extremely poor customer service. interrnet service. comcast. comcast cable and internet. comcast. comcast. comcast accourt. availabilty. comcast internet services. unfair billing practices by comcast xfinity. unfair billing practices. incorrect billing of non-rented equipment. paying for hi speed internet 105 mbps. comcast internet, being charged full price for partial service. poor quality service and broken promises. monthly rate confusion & poor customer support. billing complaint - comcast digital phone/internet service. comcast (xfinity) internet service. cant cancel internet on sundays?. internet speeds. comcast - hbo - ps3. over charged for service never received. comcast. billing issues. internet speeds not as advertised. bandwith not available as advertised. comcast xfinity deceptive billing practices. xfiniti account. excessive early termination fees due immediately after 10+ years of service. comcast complaint. comcast forcing me to purchase cable tv, only want internet. installed on 4/26 still not working. comcast / xfinity billing issue. xfinity security system. billing overcharging issues by comcast. internet speed cut in half with no notification. internet access. data caps. comcast data cap. complaint#67455. bad interner speeds and access. billing practices. fraud. billing. no email service from comcast. service quality. no internet service. complaint about comcast/xfinity. comcast- unfair pricing. high speed internet access. internet being throttled. no internet service for more than 20 days. paying for service for 12 months without recieving the service. internet outage. comcast data cap. continuous internet problems.. billing - comcast. comcast refusing to fix connectivity issues. comcast charged me higher than quoted on the phone. misleading and deceptive sale of internet service. comcast refund and discontinue service billing. comcast service and pricing. billed for services not ordered or recieved. xfinity/comcast throttles bandwidth way below contract level. comcast data usage limit in atlanta. comcast data caps. comcast internet. recent fines to at&t and possibly.... predatory monopolistic pricing. outrageous comcast charges. price fixing and monopolistic behaivor. customer service. bills/identity. i pay for 50 mbps, get 10 at best. poor service from xfinity. comcast practices/ billing. comcast cable. complaint regarding comcast. intermittent internet. unreliable connection. unreliable connection. comcast is awful. comcast billing. tallahassee comcast rates high without competition. 60 day delay in cancelling service agreement. unfair billing practices. internet speed. comcast internet issue. xfinity issues. back to back bill. loss of signal several times a day, very slow connectivity very often, several issues with television also not just internet. poor service/paying for unusable services. scam concerning ham license register book.. comcast bill doubled without notice. comcast complaint. comcast bars hbogo from streaming to purchased device of my choosing, ps4. internet services. comcast charges in violation of contract. someone at comcast added services without me knowing. comcast won\\'t pay me my refund. data caps for broadband internet. comcast had said i had a credit but then issued a regular bill. comcast. why am i paying for this ?. comcast service complaint. complaint about comcast. comcast complaint. comcast is inaccurately measuring bandwidth consumption.. data capping and lack of options in tucson az. poor internet service. comcast is changing my paper bill to ecobill without my consent. internet \"overage\" charges. improper billing/services. data caps. data caps. comcast \"unlimited\" internet access recently limited to 300gb per month. deceptive advertising. comcast data cap/meter. data cap. comcast data meter/cap. comcast service and billing. data limits. tucson comcast data caps on internet service. data cap. home internet data caps. comcast falsely claims service is provided in neighborhood. data usage cap with comcast xfinity. comcast monopoly. comcast data usage plan trial. comcast slowing internet speeds intentionally. xfinity data caps. comcast data caps and throttling. increased monthly fee on 3 year contract. installation fee. comcast issues don\\'t get resolved. data cap. shitty comcast. shitty comcast service. terrible pricing for only one viable option. unfair billing practice and services. pay 2500 for cable line. inability to get service transferred. poor service or no service. access to service. speed consistently 1/25 of speed paid for. comcast throttling internet. slow internet. comcast internet service. incorrect billing. comcast xfinity. comcast fraudulent charges. re: unfair billing practices complaints against comcast. my comcast bill for internet/cable/phone service. monopolist power of comcast in my service area. comcast/xfinity communication. no internet. comcast-non existent customer service, terrible internet connection. slow download and upload speeds. repeatedly have been promised installations without anyone arriving or notifying. comcast internet. internet speeds are wacko. unresolved comcast fraudulent billing. comcast internet service. comcast email acess. internet service loses signal. comcast bill. horrible customer service, bad service. comcast (no service, hung up on, 3 in person attempts by technician and all were no show with no call back). inexplicable disconnection & subsequent mishandling. comcast: billing issue. comcast internet service. billing complaint. credit on bill and change of service request. internet speed. false sales offers. incorrect disclosure. paying for 50mb/s and getting 26mb/s. comcast misleading hsi customers. throttling of comcast internet services. billing. unfair and monopolistic billing practices. comcast/xfinity. comcast internet. broadband internet malfeasance by comcast. comcast speeds as low as 12 mb/s, paying for 105 mb/s and they wont figure it out.. lack of isp choice. failure to provide service while still billing. slow internet speeds. monopolies mean high prices and mediocre service. internet speed. complaint #2. no resolution. please help. thank you.. comcast is charging consumer too much. comcast slowing down netflix. comcast excessive charge when cancelling service. fradulent services. comcast refusal of service. (comcast is not my complaint!) cyber tele-marketing is my complaint!. comcast asking for interstructure fee. deceptive trade practices, false advertising and bait and switch. billing issues. failure to show for an appointment and lying. over sold/ over billed for short term services. misrepresentation of internet speed. comcast home security system. comcast transfer of service complaint. i have been asking to speak with a supervisor every day for the last five weeks. comcast is giving out wrong information, accusing people and increasing equipment prices, when contract says price will stay the same for 2 years. unauthorized charges to my account by comcast. comcast charge my own router as unreturned equipment. internet uasge/overage. egregious fees. cramming, false internet promotion, speed complaint. comcast data cap overage fees. comcast committing extortion. comcast. overbilled. comcast business internet. monthly bill increased, service decreased. promised speeds. comcast. data caps for cable isp;s. comcast. youtube being throttled?. comcast xfinity. internet speed. comcast will not help us please help. comcast failing to show up to scheduled appointment. comcast sales people not reflect what they said in the bill.. slow internet service. internet provider. slow internet. comcast. comcast cramming. over payment. xfinity/comcast cable. throttling internet. billing continues for 2 months after terminating service. data usage caps. comcast charges. comcast xfinity internet service.. comcast. monopolistic billing practices. comcast outage. unfair pricing. unreasonable billing. xfinity corporate bullying, breach of contract. i am so fed up with comcast. terrible internet service from comcast. comcast cramming services i didn\\'t ask for to raise my bill. comcast over charge. charged for no seevice. comcast xfintity internet data caps. miss represented and over charged now. comcst data cap. inconsistent and intermittent internet connectivity. comcast will not refund or reimburse significant overcharges they admit to. lied to about install costs. issues with comcast billing and equipment. comcast internet. comcast cap. false advertising/bait and switch. comcast customer service, and billing issues. comcast. internet services. i had sent out a check payment comcast. comcast internet service quality. comcast unfair pricing. high internet & cable bill. problems with internet service. speed throttling, speeds not at promised output. service availability. comcast monthly billing for returned modem. complaint about comcast. extremely unsatisfied comcast customer. comcast, ypsilanti mi internet speed'"
      ]
     },
     "execution_count": 29,
     "metadata": {},
     "output_type": "execute_result"
    }
   ],
   "source": [
    "Complaint"
   ]
  },
  {
   "cell_type": "code",
   "execution_count": 30,
   "metadata": {},
   "outputs": [
    {
     "name": "stdout",
     "output_type": "stream",
     "text": [
      "Requirement already satisfied: wordcloud in c:\\python\\lib\\site-packages (1.8.0)\n",
      "Requirement already satisfied: pillow in c:\\python\\lib\\site-packages (from wordcloud) (6.2.0)\n",
      "Requirement already satisfied: matplotlib in c:\\python\\lib\\site-packages (from wordcloud) (3.1.1)\n",
      "Requirement already satisfied: numpy>=1.6.1 in c:\\python\\lib\\site-packages (from wordcloud) (1.16.5)\n",
      "Requirement already satisfied: cycler>=0.10 in c:\\python\\lib\\site-packages (from matplotlib->wordcloud) (0.10.0)\n",
      "Requirement already satisfied: kiwisolver>=1.0.1 in c:\\python\\lib\\site-packages (from matplotlib->wordcloud) (1.1.0)\n",
      "Requirement already satisfied: pyparsing!=2.0.4,!=2.1.2,!=2.1.6,>=2.0.1 in c:\\python\\lib\\site-packages (from matplotlib->wordcloud) (2.4.2)\n",
      "Requirement already satisfied: python-dateutil>=2.1 in c:\\python\\lib\\site-packages (from matplotlib->wordcloud) (2.8.0)\n",
      "Requirement already satisfied: six in c:\\python\\lib\\site-packages (from cycler>=0.10->matplotlib->wordcloud) (1.12.0)\n",
      "Requirement already satisfied: setuptools in c:\\python\\lib\\site-packages (from kiwisolver>=1.0.1->matplotlib->wordcloud) (41.4.0)\n"
     ]
    }
   ],
   "source": [
    "!pip install wordcloud"
   ]
  },
  {
   "cell_type": "code",
   "execution_count": 31,
   "metadata": {},
   "outputs": [],
   "source": [
    "from wordcloud import WordCloud, STOPWORDS"
   ]
  },
  {
   "cell_type": "code",
   "execution_count": 32,
   "metadata": {},
   "outputs": [],
   "source": [
    "text = list(STOPWORDS) + ['comcast']"
   ]
  },
  {
   "cell_type": "code",
   "execution_count": 33,
   "metadata": {},
   "outputs": [
    {
     "data": {
      "image/png": "[encoded data removed]",
      "text/plain": [
       "<Figure size 2880x2160 with 1 Axes>"
      ]
     },
     "metadata": {
      "needs_background": "light"
     },
     "output_type": "display_data"
    }
   ],
   "source": [
    "wordcloud = WordCloud(width = 400, height =400, background_color='white', random_state=10,stopwords = text,\n",
    "                      max_words=50,\n",
    "                      normalize_plurals=True, prefer_horizontal=.9, font_step=2, colormap='cool').generate(Complaint)\n",
    "fig = plt.figure(figsize = (40,30))\n",
    "plt.imshow(wordcloud)\n",
    "plt.show()"
   ]
  },
  {
   "cell_type": "code",
   "execution_count": 34,
   "metadata": {},
   "outputs": [
    {
     "data": {
      "text/plain": [
       "['comcast',\n",
       " 'cable',\n",
       " 'internet',\n",
       " 'speeds.',\n",
       " 'payment',\n",
       " 'disappear',\n",
       " '-',\n",
       " 'service',\n",
       " 'got',\n",
       " 'disconnected.']"
      ]
     },
     "execution_count": 34,
     "metadata": {},
     "output_type": "execute_result"
    }
   ],
   "source": [
    "list_Comp = Complaint.split()\n",
    "list_Comp[:10]"
   ]
  },
  {
   "cell_type": "code",
   "execution_count": 35,
   "metadata": {},
   "outputs": [],
   "source": [
    "import string"
   ]
  },
  {
   "cell_type": "code",
   "execution_count": 36,
   "metadata": {},
   "outputs": [
    {
     "data": {
      "text/plain": [
       "'!\"#$%&\\'()*+,-./:;<=>?@[\\\\]^_`{|}~'"
      ]
     },
     "execution_count": 36,
     "metadata": {},
     "output_type": "execute_result"
    }
   ],
   "source": [
    "string.punctuation"
   ]
  },
  {
   "cell_type": "code",
   "execution_count": 37,
   "metadata": {},
   "outputs": [
    {
     "data": {
      "text/plain": [
       "'!\"#$%&\\'()*+,-./:;<=>?@[\\\\]^_`{|}~comcastgotand'"
      ]
     },
     "execution_count": 37,
     "metadata": {},
     "output_type": "execute_result"
    }
   ],
   "source": [
    "a = string.punctuation + 'comcast' + 'got' +'and'\n",
    "a"
   ]
  },
  {
   "cell_type": "code",
   "execution_count": 38,
   "metadata": {},
   "outputs": [
    {
     "data": {
      "text/plain": [
       "['cable',\n",
       " 'internet',\n",
       " 'speeds.',\n",
       " 'payment',\n",
       " 'disappear',\n",
       " 'service',\n",
       " 'disconnected.',\n",
       " 'speed',\n",
       " 'service.',\n",
       " 'imposed']"
      ]
     },
     "execution_count": 38,
     "metadata": {},
     "output_type": "execute_result"
    }
   ],
   "source": [
    "list_complaint =[ word for word in list_Comp if word not in a]\n",
    "list_complaint[:10]"
   ]
  },
  {
   "cell_type": "code",
   "execution_count": 39,
   "metadata": {},
   "outputs": [],
   "source": [
    "complaint = pd.Series(list_complaint)"
   ]
  },
  {
   "cell_type": "code",
   "execution_count": 40,
   "metadata": {},
   "outputs": [
    {
     "data": {
      "text/plain": [
       "pandas.core.series.Series"
      ]
     },
     "execution_count": 40,
     "metadata": {},
     "output_type": "execute_result"
    }
   ],
   "source": [
    "type(complaint)"
   ]
  },
  {
   "cell_type": "code",
   "execution_count": 41,
   "metadata": {},
   "outputs": [
    {
     "data": {
      "text/plain": [
       "internet    413\n",
       "service     226\n",
       "data        214\n",
       "comcast.    195\n",
       "billing     193\n",
       "dtype: int64"
      ]
     },
     "execution_count": 41,
     "metadata": {},
     "output_type": "execute_result"
    }
   ],
   "source": [
    "complaint.value_counts()[:5]"
   ]
  },
  {
   "cell_type": "markdown",
   "metadata": {},
   "source": [
    "From above amd word cloud we observr that internet ,service, data, billing have most no. of complains so we will create a data frame to get exact as we see observe comcast. as  part of series to avoid such puctuation mistakes we use regular expression to get the counts"
   ]
  },
  {
   "cell_type": "code",
   "execution_count": 42,
   "metadata": {},
   "outputs": [],
   "source": [
    "import re"
   ]
  },
  {
   "cell_type": "code",
   "execution_count": 43,
   "metadata": {},
   "outputs": [],
   "source": [
    "df = pd.DataFrame({\"index\": range(comcast.shape[0])})"
   ]
  },
  {
   "cell_type": "code",
   "execution_count": 44,
   "metadata": {},
   "outputs": [
    {
     "data": {
      "text/html": [
       "<div>\n",
       "<style scoped>\n",
       "    .dataframe tbody tr th:only-of-type {\n",
       "        vertical-align: middle;\n",
       "    }\n",
       "\n",
       "    .dataframe tbody tr th {\n",
       "        vertical-align: top;\n",
       "    }\n",
       "\n",
       "    .dataframe thead th {\n",
       "        text-align: right;\n",
       "    }\n",
       "</style>\n",
       "<table border=\"1\" class=\"dataframe\">\n",
       "  <thead>\n",
       "    <tr style=\"text-align: right;\">\n",
       "      <th></th>\n",
       "      <th>index</th>\n",
       "    </tr>\n",
       "  </thead>\n",
       "  <tbody>\n",
       "    <tr>\n",
       "      <td>0</td>\n",
       "      <td>0</td>\n",
       "    </tr>\n",
       "    <tr>\n",
       "      <td>1</td>\n",
       "      <td>1</td>\n",
       "    </tr>\n",
       "    <tr>\n",
       "      <td>2</td>\n",
       "      <td>2</td>\n",
       "    </tr>\n",
       "    <tr>\n",
       "      <td>3</td>\n",
       "      <td>3</td>\n",
       "    </tr>\n",
       "    <tr>\n",
       "      <td>4</td>\n",
       "      <td>4</td>\n",
       "    </tr>\n",
       "  </tbody>\n",
       "</table>\n",
       "</div>"
      ],
      "text/plain": [
       "   index\n",
       "0      0\n",
       "1      1\n",
       "2      2\n",
       "3      3\n",
       "4      4"
      ]
     },
     "execution_count": 44,
     "metadata": {},
     "output_type": "execute_result"
    }
   ],
   "source": [
    "df.head()"
   ]
  },
  {
   "cell_type": "code",
   "execution_count": 45,
   "metadata": {},
   "outputs": [],
   "source": [
    "comcast [\"Customer Complaint\"] = comcast[\"Customer Complaint\"].str.lower()"
   ]
  },
  {
   "cell_type": "code",
   "execution_count": 46,
   "metadata": {},
   "outputs": [],
   "source": [
    "df [\"speed\"] = comcast[\"Customer Complaint\"].str.extract(\"(speed)\")"
   ]
  },
  {
   "cell_type": "code",
   "execution_count": 47,
   "metadata": {},
   "outputs": [],
   "source": [
    "df [\"internet\"] = comcast[\"Customer Complaint\"].str.extract(\"(internet)\")"
   ]
  },
  {
   "cell_type": "code",
   "execution_count": 48,
   "metadata": {},
   "outputs": [],
   "source": [
    "df [\"service\"] = comcast[\"Customer Complaint\"].str.extract(\"(service)\")"
   ]
  },
  {
   "cell_type": "code",
   "execution_count": 49,
   "metadata": {},
   "outputs": [],
   "source": [
    "df [\"billing\"] = comcast[\"Customer Complaint\"].str.extract(\"(billing)\")"
   ]
  },
  {
   "cell_type": "code",
   "execution_count": 50,
   "metadata": {},
   "outputs": [],
   "source": [
    "df [\"cable\"] = comcast[\"Customer Complaint\"].str.extract(\"(cable)\")"
   ]
  },
  {
   "cell_type": "code",
   "execution_count": 51,
   "metadata": {},
   "outputs": [],
   "source": [
    "df [\"payment\"] = comcast[\"Customer Complaint\"].str.extract(\"(payment)\")"
   ]
  },
  {
   "cell_type": "code",
   "execution_count": 52,
   "metadata": {},
   "outputs": [
    {
     "data": {
      "text/plain": [
       "index       2224\n",
       "speed        192\n",
       "internet     532\n",
       "service      489\n",
       "billing      298\n",
       "cable         58\n",
       "payment       13\n",
       "dtype: int64"
      ]
     },
     "execution_count": 52,
     "metadata": {},
     "output_type": "execute_result"
    }
   ],
   "source": [
    "df.notnull().sum()"
   ]
  },
  {
   "cell_type": "code",
   "execution_count": 53,
   "metadata": {},
   "outputs": [
    {
     "data": {
      "text/html": [
       "<div>\n",
       "<style scoped>\n",
       "    .dataframe tbody tr th:only-of-type {\n",
       "        vertical-align: middle;\n",
       "    }\n",
       "\n",
       "    .dataframe tbody tr th {\n",
       "        vertical-align: top;\n",
       "    }\n",
       "\n",
       "    .dataframe thead th {\n",
       "        text-align: right;\n",
       "    }\n",
       "</style>\n",
       "<table border=\"1\" class=\"dataframe\">\n",
       "  <thead>\n",
       "    <tr style=\"text-align: right;\">\n",
       "      <th></th>\n",
       "      <th>index</th>\n",
       "      <th>speed</th>\n",
       "      <th>internet</th>\n",
       "      <th>service</th>\n",
       "      <th>billing</th>\n",
       "      <th>cable</th>\n",
       "      <th>payment</th>\n",
       "    </tr>\n",
       "  </thead>\n",
       "  <tbody>\n",
       "    <tr>\n",
       "      <td>0</td>\n",
       "      <td>0</td>\n",
       "      <td>speed</td>\n",
       "      <td>internet</td>\n",
       "      <td>NaN</td>\n",
       "      <td>NaN</td>\n",
       "      <td>cable</td>\n",
       "      <td>NaN</td>\n",
       "    </tr>\n",
       "    <tr>\n",
       "      <td>1</td>\n",
       "      <td>1</td>\n",
       "      <td>NaN</td>\n",
       "      <td>NaN</td>\n",
       "      <td>service</td>\n",
       "      <td>NaN</td>\n",
       "      <td>NaN</td>\n",
       "      <td>payment</td>\n",
       "    </tr>\n",
       "    <tr>\n",
       "      <td>2</td>\n",
       "      <td>2</td>\n",
       "      <td>speed</td>\n",
       "      <td>NaN</td>\n",
       "      <td>service</td>\n",
       "      <td>NaN</td>\n",
       "      <td>NaN</td>\n",
       "      <td>NaN</td>\n",
       "    </tr>\n",
       "    <tr>\n",
       "      <td>3</td>\n",
       "      <td>3</td>\n",
       "      <td>NaN</td>\n",
       "      <td>NaN</td>\n",
       "      <td>NaN</td>\n",
       "      <td>NaN</td>\n",
       "      <td>NaN</td>\n",
       "      <td>NaN</td>\n",
       "    </tr>\n",
       "    <tr>\n",
       "      <td>4</td>\n",
       "      <td>4</td>\n",
       "      <td>NaN</td>\n",
       "      <td>NaN</td>\n",
       "      <td>service</td>\n",
       "      <td>NaN</td>\n",
       "      <td>NaN</td>\n",
       "      <td>NaN</td>\n",
       "    </tr>\n",
       "    <tr>\n",
       "      <td>...</td>\n",
       "      <td>...</td>\n",
       "      <td>...</td>\n",
       "      <td>...</td>\n",
       "      <td>...</td>\n",
       "      <td>...</td>\n",
       "      <td>...</td>\n",
       "      <td>...</td>\n",
       "    </tr>\n",
       "    <tr>\n",
       "      <td>2219</td>\n",
       "      <td>2219</td>\n",
       "      <td>NaN</td>\n",
       "      <td>NaN</td>\n",
       "      <td>service</td>\n",
       "      <td>NaN</td>\n",
       "      <td>NaN</td>\n",
       "      <td>NaN</td>\n",
       "    </tr>\n",
       "    <tr>\n",
       "      <td>2220</td>\n",
       "      <td>2220</td>\n",
       "      <td>NaN</td>\n",
       "      <td>NaN</td>\n",
       "      <td>NaN</td>\n",
       "      <td>billing</td>\n",
       "      <td>NaN</td>\n",
       "      <td>NaN</td>\n",
       "    </tr>\n",
       "    <tr>\n",
       "      <td>2221</td>\n",
       "      <td>2221</td>\n",
       "      <td>NaN</td>\n",
       "      <td>NaN</td>\n",
       "      <td>NaN</td>\n",
       "      <td>NaN</td>\n",
       "      <td>NaN</td>\n",
       "      <td>NaN</td>\n",
       "    </tr>\n",
       "    <tr>\n",
       "      <td>2222</td>\n",
       "      <td>2222</td>\n",
       "      <td>NaN</td>\n",
       "      <td>NaN</td>\n",
       "      <td>NaN</td>\n",
       "      <td>NaN</td>\n",
       "      <td>NaN</td>\n",
       "      <td>NaN</td>\n",
       "    </tr>\n",
       "    <tr>\n",
       "      <td>2223</td>\n",
       "      <td>2223</td>\n",
       "      <td>speed</td>\n",
       "      <td>internet</td>\n",
       "      <td>NaN</td>\n",
       "      <td>NaN</td>\n",
       "      <td>NaN</td>\n",
       "      <td>NaN</td>\n",
       "    </tr>\n",
       "  </tbody>\n",
       "</table>\n",
       "<p>2224 rows × 7 columns</p>\n",
       "</div>"
      ],
      "text/plain": [
       "      index  speed  internet  service  billing  cable  payment\n",
       "0         0  speed  internet      NaN      NaN  cable      NaN\n",
       "1         1    NaN       NaN  service      NaN    NaN  payment\n",
       "2         2  speed       NaN  service      NaN    NaN      NaN\n",
       "3         3    NaN       NaN      NaN      NaN    NaN      NaN\n",
       "4         4    NaN       NaN  service      NaN    NaN      NaN\n",
       "...     ...    ...       ...      ...      ...    ...      ...\n",
       "2219   2219    NaN       NaN  service      NaN    NaN      NaN\n",
       "2220   2220    NaN       NaN      NaN  billing    NaN      NaN\n",
       "2221   2221    NaN       NaN      NaN      NaN    NaN      NaN\n",
       "2222   2222    NaN       NaN      NaN      NaN    NaN      NaN\n",
       "2223   2223  speed  internet      NaN      NaN    NaN      NaN\n",
       "\n",
       "[2224 rows x 7 columns]"
      ]
     },
     "execution_count": 53,
     "metadata": {},
     "output_type": "execute_result"
    }
   ],
   "source": [
    "df"
   ]
  },
  {
   "cell_type": "markdown",
   "metadata": {},
   "source": [
    "Changing Status pending to Open and solved as Closed"
   ]
  },
  {
   "cell_type": "code",
   "execution_count": 56,
   "metadata": {},
   "outputs": [
    {
     "data": {
      "text/plain": [
       "0     Closed\n",
       "1     Closed\n",
       "2     Closed\n",
       "3       Open\n",
       "4     Solved\n",
       "5     Solved\n",
       "6    Pending\n",
       "Name: Status, dtype: object"
      ]
     },
     "execution_count": 56,
     "metadata": {},
     "output_type": "execute_result"
    }
   ],
   "source": [
    "comcast[\"Status\"][:7]"
   ]
  },
  {
   "cell_type": "code",
   "execution_count": 57,
   "metadata": {},
   "outputs": [
    {
     "data": {
      "text/plain": [
       "0    Closed\n",
       "1    Closed\n",
       "2    Closed\n",
       "3      Open\n",
       "4    Closed\n",
       "5    Closed\n",
       "6      Open\n",
       "Name: Status, dtype: object"
      ]
     },
     "execution_count": 57,
     "metadata": {},
     "output_type": "execute_result"
    }
   ],
   "source": [
    "comcast[\"Status\"] = comcast.Status.replace({\"Pending\":\"Open\",\"Solved\":\"Closed\"})\n",
    "comcast[\"Status\"][:7]"
   ]
  },
  {
   "cell_type": "code",
   "execution_count": 58,
   "metadata": {},
   "outputs": [
    {
     "data": {
      "text/plain": [
       "Closed    1707\n",
       "Open       517\n",
       "Name: Status, dtype: int64"
      ]
     },
     "execution_count": 58,
     "metadata": {},
     "output_type": "execute_result"
    }
   ],
   "source": [
    "comcast.Status.value_counts()"
   ]
  },
  {
   "cell_type": "markdown",
   "metadata": {},
   "source": [
    "state wise status of complaints in a stacked bar chart"
   ]
  },
  {
   "cell_type": "code",
   "execution_count": 65,
   "metadata": {},
   "outputs": [
    {
     "data": {
      "image/png": "[encoded data removed]",
      "text/plain": [
       "<Figure size 1080x1440 with 1 Axes>"
      ]
     },
     "metadata": {
      "needs_background": "light"
     },
     "output_type": "display_data"
    }
   ],
   "source": [
    "comcast.groupby([\"State\",\"Status\"]).count()[\"Customer Complaint\"].unstack().plot(kind=\"barh\",stacked=\"True\",\n",
    "                                                                               figsize=(15,20))\n",
    "plt.show()"
   ]
  },
  {
   "cell_type": "code",
   "execution_count": 91,
   "metadata": {},
   "outputs": [
    {
     "data": {
      "text/html": [
       "<div>\n",
       "<style scoped>\n",
       "    .dataframe tbody tr th:only-of-type {\n",
       "        vertical-align: middle;\n",
       "    }\n",
       "\n",
       "    .dataframe tbody tr th {\n",
       "        vertical-align: top;\n",
       "    }\n",
       "\n",
       "    .dataframe thead th {\n",
       "        text-align: right;\n",
       "    }\n",
       "</style>\n",
       "<table border=\"1\" class=\"dataframe\">\n",
       "  <thead>\n",
       "    <tr style=\"text-align: right;\">\n",
       "      <th>Status</th>\n",
       "      <th>Closed</th>\n",
       "      <th>Open</th>\n",
       "    </tr>\n",
       "    <tr>\n",
       "      <th>State</th>\n",
       "      <th></th>\n",
       "      <th></th>\n",
       "    </tr>\n",
       "  </thead>\n",
       "  <tbody>\n",
       "    <tr>\n",
       "      <td>Alabama</td>\n",
       "      <td>17</td>\n",
       "      <td>9</td>\n",
       "    </tr>\n",
       "    <tr>\n",
       "      <td>Arizona</td>\n",
       "      <td>14</td>\n",
       "      <td>6</td>\n",
       "    </tr>\n",
       "    <tr>\n",
       "      <td>Arkansas</td>\n",
       "      <td>6</td>\n",
       "      <td>0</td>\n",
       "    </tr>\n",
       "    <tr>\n",
       "      <td>California</td>\n",
       "      <td>159</td>\n",
       "      <td>61</td>\n",
       "    </tr>\n",
       "    <tr>\n",
       "      <td>Colorado</td>\n",
       "      <td>58</td>\n",
       "      <td>22</td>\n",
       "    </tr>\n",
       "    <tr>\n",
       "      <td>Connecticut</td>\n",
       "      <td>9</td>\n",
       "      <td>3</td>\n",
       "    </tr>\n",
       "    <tr>\n",
       "      <td>Delaware</td>\n",
       "      <td>8</td>\n",
       "      <td>4</td>\n",
       "    </tr>\n",
       "    <tr>\n",
       "      <td>District Of Columbia</td>\n",
       "      <td>14</td>\n",
       "      <td>2</td>\n",
       "    </tr>\n",
       "    <tr>\n",
       "      <td>District of Columbia</td>\n",
       "      <td>1</td>\n",
       "      <td>0</td>\n",
       "    </tr>\n",
       "    <tr>\n",
       "      <td>Florida</td>\n",
       "      <td>201</td>\n",
       "      <td>39</td>\n",
       "    </tr>\n",
       "    <tr>\n",
       "      <td>Georgia</td>\n",
       "      <td>208</td>\n",
       "      <td>80</td>\n",
       "    </tr>\n",
       "    <tr>\n",
       "      <td>Illinois</td>\n",
       "      <td>135</td>\n",
       "      <td>29</td>\n",
       "    </tr>\n",
       "    <tr>\n",
       "      <td>Indiana</td>\n",
       "      <td>50</td>\n",
       "      <td>9</td>\n",
       "    </tr>\n",
       "    <tr>\n",
       "      <td>Iowa</td>\n",
       "      <td>1</td>\n",
       "      <td>0</td>\n",
       "    </tr>\n",
       "    <tr>\n",
       "      <td>Kansas</td>\n",
       "      <td>1</td>\n",
       "      <td>1</td>\n",
       "    </tr>\n",
       "    <tr>\n",
       "      <td>Kentucky</td>\n",
       "      <td>4</td>\n",
       "      <td>3</td>\n",
       "    </tr>\n",
       "    <tr>\n",
       "      <td>Louisiana</td>\n",
       "      <td>12</td>\n",
       "      <td>1</td>\n",
       "    </tr>\n",
       "    <tr>\n",
       "      <td>Maine</td>\n",
       "      <td>3</td>\n",
       "      <td>2</td>\n",
       "    </tr>\n",
       "    <tr>\n",
       "      <td>Maryland</td>\n",
       "      <td>63</td>\n",
       "      <td>15</td>\n",
       "    </tr>\n",
       "    <tr>\n",
       "      <td>Massachusetts</td>\n",
       "      <td>50</td>\n",
       "      <td>11</td>\n",
       "    </tr>\n",
       "    <tr>\n",
       "      <td>Michigan</td>\n",
       "      <td>92</td>\n",
       "      <td>23</td>\n",
       "    </tr>\n",
       "    <tr>\n",
       "      <td>Minnesota</td>\n",
       "      <td>29</td>\n",
       "      <td>4</td>\n",
       "    </tr>\n",
       "    <tr>\n",
       "      <td>Mississippi</td>\n",
       "      <td>23</td>\n",
       "      <td>16</td>\n",
       "    </tr>\n",
       "    <tr>\n",
       "      <td>Missouri</td>\n",
       "      <td>3</td>\n",
       "      <td>1</td>\n",
       "    </tr>\n",
       "    <tr>\n",
       "      <td>Montana</td>\n",
       "      <td>1</td>\n",
       "      <td>0</td>\n",
       "    </tr>\n",
       "    <tr>\n",
       "      <td>Nevada</td>\n",
       "      <td>1</td>\n",
       "      <td>0</td>\n",
       "    </tr>\n",
       "    <tr>\n",
       "      <td>New Hampshire</td>\n",
       "      <td>8</td>\n",
       "      <td>4</td>\n",
       "    </tr>\n",
       "    <tr>\n",
       "      <td>New Jersey</td>\n",
       "      <td>56</td>\n",
       "      <td>19</td>\n",
       "    </tr>\n",
       "    <tr>\n",
       "      <td>New Mexico</td>\n",
       "      <td>11</td>\n",
       "      <td>4</td>\n",
       "    </tr>\n",
       "    <tr>\n",
       "      <td>New York</td>\n",
       "      <td>6</td>\n",
       "      <td>0</td>\n",
       "    </tr>\n",
       "    <tr>\n",
       "      <td>North Carolina</td>\n",
       "      <td>3</td>\n",
       "      <td>0</td>\n",
       "    </tr>\n",
       "    <tr>\n",
       "      <td>Ohio</td>\n",
       "      <td>3</td>\n",
       "      <td>0</td>\n",
       "    </tr>\n",
       "    <tr>\n",
       "      <td>Oregon</td>\n",
       "      <td>36</td>\n",
       "      <td>13</td>\n",
       "    </tr>\n",
       "    <tr>\n",
       "      <td>Pennsylvania</td>\n",
       "      <td>110</td>\n",
       "      <td>20</td>\n",
       "    </tr>\n",
       "    <tr>\n",
       "      <td>Rhode Island</td>\n",
       "      <td>1</td>\n",
       "      <td>0</td>\n",
       "    </tr>\n",
       "    <tr>\n",
       "      <td>South Carolina</td>\n",
       "      <td>15</td>\n",
       "      <td>3</td>\n",
       "    </tr>\n",
       "    <tr>\n",
       "      <td>Tennessee</td>\n",
       "      <td>96</td>\n",
       "      <td>47</td>\n",
       "    </tr>\n",
       "    <tr>\n",
       "      <td>Texas</td>\n",
       "      <td>49</td>\n",
       "      <td>22</td>\n",
       "    </tr>\n",
       "    <tr>\n",
       "      <td>Utah</td>\n",
       "      <td>16</td>\n",
       "      <td>6</td>\n",
       "    </tr>\n",
       "    <tr>\n",
       "      <td>Vermont</td>\n",
       "      <td>2</td>\n",
       "      <td>1</td>\n",
       "    </tr>\n",
       "    <tr>\n",
       "      <td>Virginia</td>\n",
       "      <td>49</td>\n",
       "      <td>11</td>\n",
       "    </tr>\n",
       "    <tr>\n",
       "      <td>Washington</td>\n",
       "      <td>75</td>\n",
       "      <td>23</td>\n",
       "    </tr>\n",
       "    <tr>\n",
       "      <td>West Virginia</td>\n",
       "      <td>8</td>\n",
       "      <td>3</td>\n",
       "    </tr>\n",
       "  </tbody>\n",
       "</table>\n",
       "</div>"
      ],
      "text/plain": [
       "Status                Closed  Open\n",
       "State                             \n",
       "Alabama                   17     9\n",
       "Arizona                   14     6\n",
       "Arkansas                   6     0\n",
       "California               159    61\n",
       "Colorado                  58    22\n",
       "Connecticut                9     3\n",
       "Delaware                   8     4\n",
       "District Of Columbia      14     2\n",
       "District of Columbia       1     0\n",
       "Florida                  201    39\n",
       "Georgia                  208    80\n",
       "Illinois                 135    29\n",
       "Indiana                   50     9\n",
       "Iowa                       1     0\n",
       "Kansas                     1     1\n",
       "Kentucky                   4     3\n",
       "Louisiana                 12     1\n",
       "Maine                      3     2\n",
       "Maryland                  63    15\n",
       "Massachusetts             50    11\n",
       "Michigan                  92    23\n",
       "Minnesota                 29     4\n",
       "Mississippi               23    16\n",
       "Missouri                   3     1\n",
       "Montana                    1     0\n",
       "Nevada                     1     0\n",
       "New Hampshire              8     4\n",
       "New Jersey                56    19\n",
       "New Mexico                11     4\n",
       "New York                   6     0\n",
       "North Carolina             3     0\n",
       "Ohio                       3     0\n",
       "Oregon                    36    13\n",
       "Pennsylvania             110    20\n",
       "Rhode Island               1     0\n",
       "South Carolina            15     3\n",
       "Tennessee                 96    47\n",
       "Texas                     49    22\n",
       "Utah                      16     6\n",
       "Vermont                    2     1\n",
       "Virginia                  49    11\n",
       "Washington                75    23\n",
       "West Virginia              8     3"
      ]
     },
     "execution_count": 91,
     "metadata": {},
     "output_type": "execute_result"
    }
   ],
   "source": [
    "df =pd.crosstab(comcast.State, comcast.Status)\n",
    "df"
   ]
  },
  {
   "cell_type": "markdown",
   "metadata": {},
   "source": [
    "State has the highest percentage of unresolved complaints"
   ]
  },
  {
   "cell_type": "code",
   "execution_count": 98,
   "metadata": {},
   "outputs": [
    {
     "data": {
      "text/plain": [
       "'Georgia'"
      ]
     },
     "execution_count": 98,
     "metadata": {},
     "output_type": "execute_result"
    }
   ],
   "source": [
    "df.Open.idxmax()"
   ]
  },
  {
   "cell_type": "code",
   "execution_count": 137,
   "metadata": {},
   "outputs": [],
   "source": [
    "df1 =pd.crosstab(comcast.State, comcast.Status,margins=True)"
   ]
  },
  {
   "cell_type": "code",
   "execution_count": 139,
   "metadata": {},
   "outputs": [
    {
     "data": {
      "text/html": [
       "<div>\n",
       "<style scoped>\n",
       "    .dataframe tbody tr th:only-of-type {\n",
       "        vertical-align: middle;\n",
       "    }\n",
       "\n",
       "    .dataframe tbody tr th {\n",
       "        vertical-align: top;\n",
       "    }\n",
       "\n",
       "    .dataframe thead th {\n",
       "        text-align: right;\n",
       "    }\n",
       "</style>\n",
       "<table border=\"1\" class=\"dataframe\">\n",
       "  <thead>\n",
       "    <tr style=\"text-align: right;\">\n",
       "      <th>Status</th>\n",
       "      <th>Closed</th>\n",
       "      <th>Open</th>\n",
       "      <th>All</th>\n",
       "      <th>Percent</th>\n",
       "    </tr>\n",
       "    <tr>\n",
       "      <th>State</th>\n",
       "      <th></th>\n",
       "      <th></th>\n",
       "      <th></th>\n",
       "      <th></th>\n",
       "    </tr>\n",
       "  </thead>\n",
       "  <tbody>\n",
       "    <tr>\n",
       "      <td>Alabama</td>\n",
       "      <td>17</td>\n",
       "      <td>9</td>\n",
       "      <td>26</td>\n",
       "      <td>34.615385</td>\n",
       "    </tr>\n",
       "    <tr>\n",
       "      <td>Arizona</td>\n",
       "      <td>14</td>\n",
       "      <td>6</td>\n",
       "      <td>20</td>\n",
       "      <td>30.000000</td>\n",
       "    </tr>\n",
       "    <tr>\n",
       "      <td>Arkansas</td>\n",
       "      <td>6</td>\n",
       "      <td>0</td>\n",
       "      <td>6</td>\n",
       "      <td>0.000000</td>\n",
       "    </tr>\n",
       "    <tr>\n",
       "      <td>California</td>\n",
       "      <td>159</td>\n",
       "      <td>61</td>\n",
       "      <td>220</td>\n",
       "      <td>27.727273</td>\n",
       "    </tr>\n",
       "    <tr>\n",
       "      <td>Colorado</td>\n",
       "      <td>58</td>\n",
       "      <td>22</td>\n",
       "      <td>80</td>\n",
       "      <td>27.500000</td>\n",
       "    </tr>\n",
       "    <tr>\n",
       "      <td>Connecticut</td>\n",
       "      <td>9</td>\n",
       "      <td>3</td>\n",
       "      <td>12</td>\n",
       "      <td>25.000000</td>\n",
       "    </tr>\n",
       "    <tr>\n",
       "      <td>Delaware</td>\n",
       "      <td>8</td>\n",
       "      <td>4</td>\n",
       "      <td>12</td>\n",
       "      <td>33.333333</td>\n",
       "    </tr>\n",
       "    <tr>\n",
       "      <td>District Of Columbia</td>\n",
       "      <td>14</td>\n",
       "      <td>2</td>\n",
       "      <td>16</td>\n",
       "      <td>12.500000</td>\n",
       "    </tr>\n",
       "    <tr>\n",
       "      <td>District of Columbia</td>\n",
       "      <td>1</td>\n",
       "      <td>0</td>\n",
       "      <td>1</td>\n",
       "      <td>0.000000</td>\n",
       "    </tr>\n",
       "    <tr>\n",
       "      <td>Florida</td>\n",
       "      <td>201</td>\n",
       "      <td>39</td>\n",
       "      <td>240</td>\n",
       "      <td>16.250000</td>\n",
       "    </tr>\n",
       "    <tr>\n",
       "      <td>Georgia</td>\n",
       "      <td>208</td>\n",
       "      <td>80</td>\n",
       "      <td>288</td>\n",
       "      <td>27.777778</td>\n",
       "    </tr>\n",
       "    <tr>\n",
       "      <td>Illinois</td>\n",
       "      <td>135</td>\n",
       "      <td>29</td>\n",
       "      <td>164</td>\n",
       "      <td>17.682927</td>\n",
       "    </tr>\n",
       "    <tr>\n",
       "      <td>Indiana</td>\n",
       "      <td>50</td>\n",
       "      <td>9</td>\n",
       "      <td>59</td>\n",
       "      <td>15.254237</td>\n",
       "    </tr>\n",
       "    <tr>\n",
       "      <td>Iowa</td>\n",
       "      <td>1</td>\n",
       "      <td>0</td>\n",
       "      <td>1</td>\n",
       "      <td>0.000000</td>\n",
       "    </tr>\n",
       "    <tr>\n",
       "      <td>Kansas</td>\n",
       "      <td>1</td>\n",
       "      <td>1</td>\n",
       "      <td>2</td>\n",
       "      <td>50.000000</td>\n",
       "    </tr>\n",
       "    <tr>\n",
       "      <td>Kentucky</td>\n",
       "      <td>4</td>\n",
       "      <td>3</td>\n",
       "      <td>7</td>\n",
       "      <td>42.857143</td>\n",
       "    </tr>\n",
       "    <tr>\n",
       "      <td>Louisiana</td>\n",
       "      <td>12</td>\n",
       "      <td>1</td>\n",
       "      <td>13</td>\n",
       "      <td>7.692308</td>\n",
       "    </tr>\n",
       "    <tr>\n",
       "      <td>Maine</td>\n",
       "      <td>3</td>\n",
       "      <td>2</td>\n",
       "      <td>5</td>\n",
       "      <td>40.000000</td>\n",
       "    </tr>\n",
       "    <tr>\n",
       "      <td>Maryland</td>\n",
       "      <td>63</td>\n",
       "      <td>15</td>\n",
       "      <td>78</td>\n",
       "      <td>19.230769</td>\n",
       "    </tr>\n",
       "    <tr>\n",
       "      <td>Massachusetts</td>\n",
       "      <td>50</td>\n",
       "      <td>11</td>\n",
       "      <td>61</td>\n",
       "      <td>18.032787</td>\n",
       "    </tr>\n",
       "    <tr>\n",
       "      <td>Michigan</td>\n",
       "      <td>92</td>\n",
       "      <td>23</td>\n",
       "      <td>115</td>\n",
       "      <td>20.000000</td>\n",
       "    </tr>\n",
       "    <tr>\n",
       "      <td>Minnesota</td>\n",
       "      <td>29</td>\n",
       "      <td>4</td>\n",
       "      <td>33</td>\n",
       "      <td>12.121212</td>\n",
       "    </tr>\n",
       "    <tr>\n",
       "      <td>Mississippi</td>\n",
       "      <td>23</td>\n",
       "      <td>16</td>\n",
       "      <td>39</td>\n",
       "      <td>41.025641</td>\n",
       "    </tr>\n",
       "    <tr>\n",
       "      <td>Missouri</td>\n",
       "      <td>3</td>\n",
       "      <td>1</td>\n",
       "      <td>4</td>\n",
       "      <td>25.000000</td>\n",
       "    </tr>\n",
       "    <tr>\n",
       "      <td>Montana</td>\n",
       "      <td>1</td>\n",
       "      <td>0</td>\n",
       "      <td>1</td>\n",
       "      <td>0.000000</td>\n",
       "    </tr>\n",
       "    <tr>\n",
       "      <td>Nevada</td>\n",
       "      <td>1</td>\n",
       "      <td>0</td>\n",
       "      <td>1</td>\n",
       "      <td>0.000000</td>\n",
       "    </tr>\n",
       "    <tr>\n",
       "      <td>New Hampshire</td>\n",
       "      <td>8</td>\n",
       "      <td>4</td>\n",
       "      <td>12</td>\n",
       "      <td>33.333333</td>\n",
       "    </tr>\n",
       "    <tr>\n",
       "      <td>New Jersey</td>\n",
       "      <td>56</td>\n",
       "      <td>19</td>\n",
       "      <td>75</td>\n",
       "      <td>25.333333</td>\n",
       "    </tr>\n",
       "    <tr>\n",
       "      <td>New Mexico</td>\n",
       "      <td>11</td>\n",
       "      <td>4</td>\n",
       "      <td>15</td>\n",
       "      <td>26.666667</td>\n",
       "    </tr>\n",
       "    <tr>\n",
       "      <td>New York</td>\n",
       "      <td>6</td>\n",
       "      <td>0</td>\n",
       "      <td>6</td>\n",
       "      <td>0.000000</td>\n",
       "    </tr>\n",
       "    <tr>\n",
       "      <td>North Carolina</td>\n",
       "      <td>3</td>\n",
       "      <td>0</td>\n",
       "      <td>3</td>\n",
       "      <td>0.000000</td>\n",
       "    </tr>\n",
       "    <tr>\n",
       "      <td>Ohio</td>\n",
       "      <td>3</td>\n",
       "      <td>0</td>\n",
       "      <td>3</td>\n",
       "      <td>0.000000</td>\n",
       "    </tr>\n",
       "    <tr>\n",
       "      <td>Oregon</td>\n",
       "      <td>36</td>\n",
       "      <td>13</td>\n",
       "      <td>49</td>\n",
       "      <td>26.530612</td>\n",
       "    </tr>\n",
       "    <tr>\n",
       "      <td>Pennsylvania</td>\n",
       "      <td>110</td>\n",
       "      <td>20</td>\n",
       "      <td>130</td>\n",
       "      <td>15.384615</td>\n",
       "    </tr>\n",
       "    <tr>\n",
       "      <td>Rhode Island</td>\n",
       "      <td>1</td>\n",
       "      <td>0</td>\n",
       "      <td>1</td>\n",
       "      <td>0.000000</td>\n",
       "    </tr>\n",
       "    <tr>\n",
       "      <td>South Carolina</td>\n",
       "      <td>15</td>\n",
       "      <td>3</td>\n",
       "      <td>18</td>\n",
       "      <td>16.666667</td>\n",
       "    </tr>\n",
       "    <tr>\n",
       "      <td>Tennessee</td>\n",
       "      <td>96</td>\n",
       "      <td>47</td>\n",
       "      <td>143</td>\n",
       "      <td>32.867133</td>\n",
       "    </tr>\n",
       "    <tr>\n",
       "      <td>Texas</td>\n",
       "      <td>49</td>\n",
       "      <td>22</td>\n",
       "      <td>71</td>\n",
       "      <td>30.985915</td>\n",
       "    </tr>\n",
       "    <tr>\n",
       "      <td>Utah</td>\n",
       "      <td>16</td>\n",
       "      <td>6</td>\n",
       "      <td>22</td>\n",
       "      <td>27.272727</td>\n",
       "    </tr>\n",
       "    <tr>\n",
       "      <td>Vermont</td>\n",
       "      <td>2</td>\n",
       "      <td>1</td>\n",
       "      <td>3</td>\n",
       "      <td>33.333333</td>\n",
       "    </tr>\n",
       "    <tr>\n",
       "      <td>Virginia</td>\n",
       "      <td>49</td>\n",
       "      <td>11</td>\n",
       "      <td>60</td>\n",
       "      <td>18.333333</td>\n",
       "    </tr>\n",
       "    <tr>\n",
       "      <td>Washington</td>\n",
       "      <td>75</td>\n",
       "      <td>23</td>\n",
       "      <td>98</td>\n",
       "      <td>23.469388</td>\n",
       "    </tr>\n",
       "    <tr>\n",
       "      <td>West Virginia</td>\n",
       "      <td>8</td>\n",
       "      <td>3</td>\n",
       "      <td>11</td>\n",
       "      <td>27.272727</td>\n",
       "    </tr>\n",
       "    <tr>\n",
       "      <td>All</td>\n",
       "      <td>1707</td>\n",
       "      <td>517</td>\n",
       "      <td>2224</td>\n",
       "      <td>23.246403</td>\n",
       "    </tr>\n",
       "  </tbody>\n",
       "</table>\n",
       "</div>"
      ],
      "text/plain": [
       "Status                Closed  Open   All    Percent\n",
       "State                                              \n",
       "Alabama                   17     9    26  34.615385\n",
       "Arizona                   14     6    20  30.000000\n",
       "Arkansas                   6     0     6   0.000000\n",
       "California               159    61   220  27.727273\n",
       "Colorado                  58    22    80  27.500000\n",
       "Connecticut                9     3    12  25.000000\n",
       "Delaware                   8     4    12  33.333333\n",
       "District Of Columbia      14     2    16  12.500000\n",
       "District of Columbia       1     0     1   0.000000\n",
       "Florida                  201    39   240  16.250000\n",
       "Georgia                  208    80   288  27.777778\n",
       "Illinois                 135    29   164  17.682927\n",
       "Indiana                   50     9    59  15.254237\n",
       "Iowa                       1     0     1   0.000000\n",
       "Kansas                     1     1     2  50.000000\n",
       "Kentucky                   4     3     7  42.857143\n",
       "Louisiana                 12     1    13   7.692308\n",
       "Maine                      3     2     5  40.000000\n",
       "Maryland                  63    15    78  19.230769\n",
       "Massachusetts             50    11    61  18.032787\n",
       "Michigan                  92    23   115  20.000000\n",
       "Minnesota                 29     4    33  12.121212\n",
       "Mississippi               23    16    39  41.025641\n",
       "Missouri                   3     1     4  25.000000\n",
       "Montana                    1     0     1   0.000000\n",
       "Nevada                     1     0     1   0.000000\n",
       "New Hampshire              8     4    12  33.333333\n",
       "New Jersey                56    19    75  25.333333\n",
       "New Mexico                11     4    15  26.666667\n",
       "New York                   6     0     6   0.000000\n",
       "North Carolina             3     0     3   0.000000\n",
       "Ohio                       3     0     3   0.000000\n",
       "Oregon                    36    13    49  26.530612\n",
       "Pennsylvania             110    20   130  15.384615\n",
       "Rhode Island               1     0     1   0.000000\n",
       "South Carolina            15     3    18  16.666667\n",
       "Tennessee                 96    47   143  32.867133\n",
       "Texas                     49    22    71  30.985915\n",
       "Utah                      16     6    22  27.272727\n",
       "Vermont                    2     1     3  33.333333\n",
       "Virginia                  49    11    60  18.333333\n",
       "Washington                75    23    98  23.469388\n",
       "West Virginia              8     3    11  27.272727\n",
       "All                     1707   517  2224  23.246403"
      ]
     },
     "execution_count": 139,
     "metadata": {},
     "output_type": "execute_result"
    }
   ],
   "source": [
    "df1['Percent']=(df1.Open*100)/df1.All\n",
    "df1"
   ]
  },
  {
   "cell_type": "code",
   "execution_count": 144,
   "metadata": {},
   "outputs": [
    {
     "data": {
      "text/html": [
       "<div>\n",
       "<style scoped>\n",
       "    .dataframe tbody tr th:only-of-type {\n",
       "        vertical-align: middle;\n",
       "    }\n",
       "\n",
       "    .dataframe tbody tr th {\n",
       "        vertical-align: top;\n",
       "    }\n",
       "\n",
       "    .dataframe thead th {\n",
       "        text-align: right;\n",
       "    }\n",
       "</style>\n",
       "<table border=\"1\" class=\"dataframe\">\n",
       "  <thead>\n",
       "    <tr style=\"text-align: right;\">\n",
       "      <th>Status</th>\n",
       "      <th>Closed</th>\n",
       "      <th>Open</th>\n",
       "      <th>All</th>\n",
       "      <th>Percent</th>\n",
       "    </tr>\n",
       "    <tr>\n",
       "      <th>State</th>\n",
       "      <th></th>\n",
       "      <th></th>\n",
       "      <th></th>\n",
       "      <th></th>\n",
       "    </tr>\n",
       "  </thead>\n",
       "  <tbody>\n",
       "    <tr>\n",
       "      <td>Georgia</td>\n",
       "      <td>208</td>\n",
       "      <td>80</td>\n",
       "      <td>288</td>\n",
       "      <td>27.777778</td>\n",
       "    </tr>\n",
       "  </tbody>\n",
       "</table>\n",
       "</div>"
      ],
      "text/plain": [
       "Status   Closed  Open  All    Percent\n",
       "State                                \n",
       "Georgia     208    80  288  27.777778"
      ]
     },
     "execution_count": 144,
     "metadata": {},
     "output_type": "execute_result"
    }
   ],
   "source": [
    "df1.loc[['Georgia']]"
   ]
  },
  {
   "cell_type": "code",
   "execution_count": 146,
   "metadata": {},
   "outputs": [
    {
     "data": {
      "text/plain": [
       "'Kansas'"
      ]
     },
     "execution_count": 146,
     "metadata": {},
     "output_type": "execute_result"
    }
   ],
   "source": [
    "df1.Percent.idxmax()\n"
   ]
  },
  {
   "cell_type": "code",
   "execution_count": 147,
   "metadata": {},
   "outputs": [
    {
     "data": {
      "text/html": [
       "<div>\n",
       "<style scoped>\n",
       "    .dataframe tbody tr th:only-of-type {\n",
       "        vertical-align: middle;\n",
       "    }\n",
       "\n",
       "    .dataframe tbody tr th {\n",
       "        vertical-align: top;\n",
       "    }\n",
       "\n",
       "    .dataframe thead th {\n",
       "        text-align: right;\n",
       "    }\n",
       "</style>\n",
       "<table border=\"1\" class=\"dataframe\">\n",
       "  <thead>\n",
       "    <tr style=\"text-align: right;\">\n",
       "      <th>Status</th>\n",
       "      <th>Closed</th>\n",
       "      <th>Open</th>\n",
       "      <th>All</th>\n",
       "      <th>Percent</th>\n",
       "    </tr>\n",
       "    <tr>\n",
       "      <th>State</th>\n",
       "      <th></th>\n",
       "      <th></th>\n",
       "      <th></th>\n",
       "      <th></th>\n",
       "    </tr>\n",
       "  </thead>\n",
       "  <tbody>\n",
       "    <tr>\n",
       "      <td>Kansas</td>\n",
       "      <td>1</td>\n",
       "      <td>1</td>\n",
       "      <td>2</td>\n",
       "      <td>50.0</td>\n",
       "    </tr>\n",
       "  </tbody>\n",
       "</table>\n",
       "</div>"
      ],
      "text/plain": [
       "Status  Closed  Open  All  Percent\n",
       "State                             \n",
       "Kansas       1     1    2     50.0"
      ]
     },
     "execution_count": 147,
     "metadata": {},
     "output_type": "execute_result"
    }
   ],
   "source": [
    "df1.loc[['Kansas']]"
   ]
  },
  {
   "cell_type": "markdown",
   "metadata": {},
   "source": [
    "percentage of complaints resolved till date, which were received through the Internet and customer care calls."
   ]
  },
  {
   "cell_type": "code",
   "execution_count": 148,
   "metadata": {},
   "outputs": [],
   "source": [
    "df = comcast.groupby([\"Received Via\",\"Status\"]).count()[\"Customer Complaint\"].unstack()\n"
   ]
  },
  {
   "cell_type": "code",
   "execution_count": 131,
   "metadata": {},
   "outputs": [],
   "source": [
    "df['total']= df.Open + df.Closed"
   ]
  },
  {
   "cell_type": "code",
   "execution_count": 132,
   "metadata": {},
   "outputs": [
    {
     "data": {
      "text/html": [
       "<div>\n",
       "<style scoped>\n",
       "    .dataframe tbody tr th:only-of-type {\n",
       "        vertical-align: middle;\n",
       "    }\n",
       "\n",
       "    .dataframe tbody tr th {\n",
       "        vertical-align: top;\n",
       "    }\n",
       "\n",
       "    .dataframe thead th {\n",
       "        text-align: right;\n",
       "    }\n",
       "</style>\n",
       "<table border=\"1\" class=\"dataframe\">\n",
       "  <thead>\n",
       "    <tr style=\"text-align: right;\">\n",
       "      <th>Status</th>\n",
       "      <th>Closed</th>\n",
       "      <th>Open</th>\n",
       "      <th>total</th>\n",
       "    </tr>\n",
       "    <tr>\n",
       "      <th>Received Via</th>\n",
       "      <th></th>\n",
       "      <th></th>\n",
       "      <th></th>\n",
       "    </tr>\n",
       "  </thead>\n",
       "  <tbody>\n",
       "    <tr>\n",
       "      <td>Customer Care Call</td>\n",
       "      <td>864</td>\n",
       "      <td>255</td>\n",
       "      <td>1119</td>\n",
       "    </tr>\n",
       "    <tr>\n",
       "      <td>Internet</td>\n",
       "      <td>843</td>\n",
       "      <td>262</td>\n",
       "      <td>1105</td>\n",
       "    </tr>\n",
       "  </tbody>\n",
       "</table>\n",
       "</div>"
      ],
      "text/plain": [
       "Status              Closed  Open  total\n",
       "Received Via                           \n",
       "Customer Care Call     864   255   1119\n",
       "Internet               843   262   1105"
      ]
     },
     "execution_count": 132,
     "metadata": {},
     "output_type": "execute_result"
    }
   ],
   "source": [
    "df"
   ]
  },
  {
   "cell_type": "code",
   "execution_count": 136,
   "metadata": {},
   "outputs": [
    {
     "data": {
      "text/html": [
       "<div>\n",
       "<style scoped>\n",
       "    .dataframe tbody tr th:only-of-type {\n",
       "        vertical-align: middle;\n",
       "    }\n",
       "\n",
       "    .dataframe tbody tr th {\n",
       "        vertical-align: top;\n",
       "    }\n",
       "\n",
       "    .dataframe thead th {\n",
       "        text-align: right;\n",
       "    }\n",
       "</style>\n",
       "<table border=\"1\" class=\"dataframe\">\n",
       "  <thead>\n",
       "    <tr style=\"text-align: right;\">\n",
       "      <th>Status</th>\n",
       "      <th>Closed</th>\n",
       "      <th>Open</th>\n",
       "      <th>total</th>\n",
       "      <th>percent</th>\n",
       "    </tr>\n",
       "    <tr>\n",
       "      <th>Received Via</th>\n",
       "      <th></th>\n",
       "      <th></th>\n",
       "      <th></th>\n",
       "      <th></th>\n",
       "    </tr>\n",
       "  </thead>\n",
       "  <tbody>\n",
       "    <tr>\n",
       "      <td>Customer Care Call</td>\n",
       "      <td>864</td>\n",
       "      <td>255</td>\n",
       "      <td>1119</td>\n",
       "      <td>77.211796</td>\n",
       "    </tr>\n",
       "    <tr>\n",
       "      <td>Internet</td>\n",
       "      <td>843</td>\n",
       "      <td>262</td>\n",
       "      <td>1105</td>\n",
       "      <td>76.289593</td>\n",
       "    </tr>\n",
       "  </tbody>\n",
       "</table>\n",
       "</div>"
      ],
      "text/plain": [
       "Status              Closed  Open  total    percent\n",
       "Received Via                                      \n",
       "Customer Care Call     864   255   1119  77.211796\n",
       "Internet               843   262   1105  76.289593"
      ]
     },
     "execution_count": 136,
     "metadata": {},
     "output_type": "execute_result"
    }
   ],
   "source": [
    "df['percent'] = (df.Closed*100)/df.total\n",
    "df"
   ]
  },
  {
   "cell_type": "markdown",
   "metadata": {},
   "source": [
    "Resolved complains Received Via Customer Care Call = 77.21% and \n",
    "Resolved complains Received ViaInternet = 76.28%"
   ]
  }
 ],
 "metadata": {
  "kernelspec": {
   "display_name": "Python 3",
   "language": "python",
   "name": "python3"
  },
  "language_info": {
   "codemirror_mode": {
    "name": "ipython",
    "version": 3
   },
   "file_extension": ".py",
   "mimetype": "text/x-python",
   "name": "python",
   "nbconvert_exporter": "python",
   "pygments_lexer": "ipython3",
   "version": "3.7.4"
  }
 },
 "nbformat": 4,
 "nbformat_minor": 2
}
